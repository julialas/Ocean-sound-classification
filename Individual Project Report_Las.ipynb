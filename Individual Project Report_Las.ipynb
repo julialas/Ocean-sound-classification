{
 "cells": [
  {
   "cell_type": "markdown",
   "id": "a680f9f6",
   "metadata": {
    "ExecuteTime": {
     "end_time": "2022-03-15T21:45:45.787694Z",
     "start_time": "2022-03-15T21:45:45.782558Z"
    }
   },
   "source": [
    "# The Ocean Calls: Identifying Marine Mammal Vocalizations using Deep Learning\n",
    "\n",
    "### by Julia Las"
   ]
  },
  {
   "cell_type": "markdown",
   "id": "c82371f5",
   "metadata": {},
   "source": [
    "# Summary\n",
    "\n",
    "Audio data collected from hydrophones deployed in different oceans since 1960 were processed to detect the presence of killer whales. The data was converted into spectrograms and classified as having a killer whale or not using deep learning. Four models were explored with ResNet50 being the best performing model. Through this project, the author was able to arrive at the following key takeaways:\n",
    "\n",
    "1. Referring to architectures used by similar studies can greatly improve your model performance while at the same time reduce your trial and error attempts. For this study, we used the ResNet50 because it was the same architecture that was used in the humpback whale song classification study that yielded good results.\n",
    "2. We cannot simply remove layers in an architecture and expect similar results. In this case, ResNet50 which has 50 layers were reduced by deleting blocks in the design. However, this resulted to poor results showing that deeper understanding of the model is needed when we attempt to redesign it.\n",
    "3. When working with audio data, understanding the domain is important in order to be able to process the data correctly. Results of this project showed that the model had difficulty identifying killer whale sounds which lead to a high false negative count because of its inability to identify the sound in noise. This can be addressed by using noise reducing techniques that can make the sounds of interest more distinct. This is even more useful for smaller species of dolphins which may have even less distinct sounds than killer whales. "
   ]
  },
  {
   "cell_type": "markdown",
   "id": "33f44e80",
   "metadata": {},
   "source": [
    "## Introduction\n",
    "\n",
    "The use of artificial intelligence in marine mammal research is a niche topic among data scientist who are equally passionate with the marine environment as they are with data science. Within the past five years, there have been promising results from multiple publications on the use of deep learning for whale call identification. This proves that the idea of using AI to analyze bioacoustics data from whales is feasible. \n",
    "\n",
    "However, the bulk of the publications are focused on whales while its equally popular cousin, the dolphins*, have been less successful in having their songs classified. This is potentially due to the lack of data on dolphin songs rather than the inability to apply deep learning to dolphin data. Hence, this study shall serve as a proof of concept that the methodology applied for whale song analysis can be applied for dolphins given a few modifications. \n",
    "\n",
    "While great success have been shown by large research institutions such as the [Monterey Bay Aquarium Research Institute (MBARI)](https://www.mbari.org/at-sea/cabled-observatory/mars-science-experiments/mars-hydrophone-data/) on the use of modern technology in research, the Philippines unfortunately still falls behind. In addition to being a proof of concept in classifying dolphin sounds, this study is also an attempt to display that Filipino data scientists can potentially collaborate with local researchers in advancing marine research in the country. \n",
    "\n",
    "**In case you are wondering, killer whales, despite its name, is part of the family Delphinidae. A lot of dolphins are wrongly named as whales such as pilot whales and melon-headed whales.* "
   ]
  },
  {
   "cell_type": "markdown",
   "id": "1964be19",
   "metadata": {},
   "source": [
    "## Data Description\n",
    "\n",
    "The data used in this project was taken from [Orcadata Wiki](https://github.com/orcasound/orcadata/wiki). Orcadata Wiki is a Github site of the Orcasound project - both of which are made to foster collaboration and volunteerism among marine mammal enthusiasts to advance marine mammal research. In addition, Orcadata wiki is regularly updated with progress on machine learning resources related to orcas. \n",
    "\n",
    "Multiple data can be obtained from Orcadata Wiki. For this project, the [Pod.Cast](https://github.com/orcasound/orcadata/wiki/Pod.Cast-data-archive) was chosen which contains labeled raw WAV format split into training and test data. Data processing guides were also included which were heavily used in this analysis. "
   ]
  },
  {
   "cell_type": "markdown",
   "id": "7bde00f2",
   "metadata": {},
   "source": [
    "## Methodology\n",
    "\n",
    "The following steps were followed in order to arrive at results:\n",
    "1. Inspect the `annotations.tsv` file provided to get an overview of the data.\n",
    "2. Preprocess the data by converting the files into windows and splitting them into train and validation sets.\n",
    "3. Classify the windows using different deep learning architectures.\n",
    "4. Evaluate the results. "
   ]
  },
  {
   "cell_type": "code",
   "execution_count": 1,
   "id": "c76b1e21",
   "metadata": {
    "ExecuteTime": {
     "end_time": "2022-03-15T20:06:50.095298Z",
     "start_time": "2022-03-15T20:06:39.140841Z"
    }
   },
   "outputs": [
    {
     "name": "stderr",
     "output_type": "stream",
     "text": [
      "Matplotlib created a temporary config/cache directory at /tmp/matplotlib-f5jq5dq5 because the default path (/home/jlas/.cache/matplotlib) is not a writable directory; it is highly recommended to set the MPLCONFIGDIR environment variable to a writable directory, in particular to speed up the import of Matplotlib and to better support multiprocessing.\n"
     ]
    }
   ],
   "source": [
    "import librosa\n",
    "import pandas as pd\n",
    "import numpy as np\n",
    "import seaborn as sns\n",
    "import matplotlib.pyplot as plt\n",
    "import tensorflow_hub as hub\n",
    "from pathlib import Path\n",
    "from tqdm import tqdm\n",
    "import pickle\n",
    "import sys\n",
    "\n",
    "sys.path.append('..')\n",
    "import src.params as params\n",
    "import src.dataloader as dataloader"
   ]
  },
  {
   "cell_type": "markdown",
   "id": "e37c92eb",
   "metadata": {},
   "source": [
    "## 1. Inspect and explore the data\n",
    "\n",
    "We will first read the tsv file provided to get an idea on how the data looks like. Here, we can see that there are multiple datasets going from as far back as 1960 all the way to 2020 containing WAV files. A single WAV file is separated into multiple rows with different start time and duration. "
   ]
  },
  {
   "cell_type": "code",
   "execution_count": 2,
   "id": "717a124a",
   "metadata": {
    "ExecuteTime": {
     "end_time": "2022-03-15T20:06:50.127203Z",
     "start_time": "2022-03-15T20:06:50.097863Z"
    }
   },
   "outputs": [
    {
     "name": "stdout",
     "output_type": "stream",
     "text": [
      "(5537, 7)\n"
     ]
    },
    {
     "data": {
      "text/html": [
       "<div>\n",
       "<style scoped>\n",
       "    .dataframe tbody tr th:only-of-type {\n",
       "        vertical-align: middle;\n",
       "    }\n",
       "\n",
       "    .dataframe tbody tr th {\n",
       "        vertical-align: top;\n",
       "    }\n",
       "\n",
       "    .dataframe thead th {\n",
       "        text-align: right;\n",
       "    }\n",
       "</style>\n",
       "<table border=\"1\" class=\"dataframe\">\n",
       "  <thead>\n",
       "    <tr style=\"text-align: right;\">\n",
       "      <th></th>\n",
       "      <th>dataset</th>\n",
       "      <th>wav_filename</th>\n",
       "      <th>start_time_s</th>\n",
       "      <th>duration_s</th>\n",
       "      <th>location</th>\n",
       "      <th>date</th>\n",
       "      <th>pst_or_master_tape_identifier</th>\n",
       "    </tr>\n",
       "  </thead>\n",
       "  <tbody>\n",
       "    <tr>\n",
       "      <th>0</th>\n",
       "      <td>podcast_round1</td>\n",
       "      <td>60012.wav</td>\n",
       "      <td>34.126</td>\n",
       "      <td>2.918</td>\n",
       "      <td>Dabob Bay, Seattle, Washington</td>\n",
       "      <td>1960-10-28</td>\n",
       "      <td>60012</td>\n",
       "    </tr>\n",
       "    <tr>\n",
       "      <th>1</th>\n",
       "      <td>podcast_round1</td>\n",
       "      <td>60012.wav</td>\n",
       "      <td>36.816</td>\n",
       "      <td>2.588</td>\n",
       "      <td>Dabob Bay, Seattle, Washington</td>\n",
       "      <td>1960-10-28</td>\n",
       "      <td>60012</td>\n",
       "    </tr>\n",
       "    <tr>\n",
       "      <th>2</th>\n",
       "      <td>podcast_round1</td>\n",
       "      <td>60012.wav</td>\n",
       "      <td>42.550</td>\n",
       "      <td>2.055</td>\n",
       "      <td>Dabob Bay, Seattle, Washington</td>\n",
       "      <td>1960-10-28</td>\n",
       "      <td>60012</td>\n",
       "    </tr>\n",
       "    <tr>\n",
       "      <th>3</th>\n",
       "      <td>podcast_round1</td>\n",
       "      <td>60012.wav</td>\n",
       "      <td>44.606</td>\n",
       "      <td>2.410</td>\n",
       "      <td>Dabob Bay, Seattle, Washington</td>\n",
       "      <td>1960-10-28</td>\n",
       "      <td>60012</td>\n",
       "    </tr>\n",
       "    <tr>\n",
       "      <th>4</th>\n",
       "      <td>podcast_round1</td>\n",
       "      <td>60012.wav</td>\n",
       "      <td>46.636</td>\n",
       "      <td>3.425</td>\n",
       "      <td>Dabob Bay, Seattle, Washington</td>\n",
       "      <td>1960-10-28</td>\n",
       "      <td>60012</td>\n",
       "    </tr>\n",
       "  </tbody>\n",
       "</table>\n",
       "</div>"
      ],
      "text/plain": [
       "          dataset wav_filename  start_time_s  duration_s  \\\n",
       "0  podcast_round1    60012.wav        34.126       2.918   \n",
       "1  podcast_round1    60012.wav        36.816       2.588   \n",
       "2  podcast_round1    60012.wav        42.550       2.055   \n",
       "3  podcast_round1    60012.wav        44.606       2.410   \n",
       "4  podcast_round1    60012.wav        46.636       3.425   \n",
       "\n",
       "                         location        date pst_or_master_tape_identifier  \n",
       "0  Dabob Bay, Seattle, Washington  1960-10-28                         60012  \n",
       "1  Dabob Bay, Seattle, Washington  1960-10-28                         60012  \n",
       "2  Dabob Bay, Seattle, Washington  1960-10-28                         60012  \n",
       "3  Dabob Bay, Seattle, Washington  1960-10-28                         60012  \n",
       "4  Dabob Bay, Seattle, Washington  1960-10-28                         60012  "
      ]
     },
     "execution_count": 2,
     "metadata": {},
     "output_type": "execute_result"
    }
   ],
   "source": [
    "# Read the tsv file\n",
    "tsv_files = pd.read_csv('../../TrainDataLatest/annotations.tsv', sep='\\t')\n",
    "print(tsv_files.shape)\n",
    "tsv_files.head()"
   ]
  },
  {
   "cell_type": "code",
   "execution_count": 3,
   "id": "ab1741a0",
   "metadata": {
    "ExecuteTime": {
     "end_time": "2022-03-15T20:06:50.134503Z",
     "start_time": "2022-03-15T20:06:50.128861Z"
    }
   },
   "outputs": [
    {
     "data": {
      "text/plain": [
       "array(['1960-10-28', '1993-06-01', '1997-01-01', '1998-01-13',\n",
       "       '1998-03-26', '1998-04-13', '1960-12-21', '1958-02-19',\n",
       "       '1964-08-16', '1964-08-17', '1964-08-18', '1964-07-17',\n",
       "       '1966-05-13', '1976-08-04', '1989-09-09', '1992-12-30',\n",
       "       '1992-12-29', '1993-04-01', '1997-02-12', '1997-02-14',\n",
       "       '1997-02-13', '1997-02-16', '1997-02-18', '1997-02-21',\n",
       "       '1997-05-22', '1997-06-10', '1997-04-28', '1997-09-09',\n",
       "       '1998-01-08', '1998-01-09', '1998-01-12', '1998-01-14',\n",
       "       '1998-01-15', '1998-01-16', '1998-01-06', '1998-01-17',\n",
       "       '1998-01-18', '1998-01-19', '1998-01-20', '1998-04-16',\n",
       "       '1998-04-12', '1998-04-11', '1998-03-27', '1998-03-11',\n",
       "       '1998-03-08', '1998-03-03', '1998-02-28', '1998-02-22',\n",
       "       '1998-02-21', '1998-02-20', '1998-02-19', '1998-02-17',\n",
       "       '1998-01-31', '1998-01-30', '1998-01-29', '1998-10-10',\n",
       "       '19610-08-01', '19640-08-01', '19650-08-01', '19660-08-01',\n",
       "       '19670-08-01', '19780-08-01', '19790-08-01', '2019-07-05',\n",
       "       '2017-09-27', '2020-07-25', '2020_09_01', '2020-09-07',\n",
       "       '2020-09-05', '2020-09-06', '2020-09-29', '2020-09-27',\n",
       "       '2020-09-28', '2020-10-18', '2020-09-08', '2020-10-08'],\n",
       "      dtype=object)"
      ]
     },
     "execution_count": 3,
     "metadata": {},
     "output_type": "execute_result"
    }
   ],
   "source": [
    "# Check the date of the file\n",
    "tsv_files['date'].unique()"
   ]
  },
  {
   "cell_type": "markdown",
   "id": "77b73f32",
   "metadata": {},
   "source": [
    "We can observe from the list below that a dataset can come from multiple locations and a location can be split into multiple dataset with `podcast_round1` having the most data."
   ]
  },
  {
   "cell_type": "code",
   "execution_count": 4,
   "id": "2c396433",
   "metadata": {
    "ExecuteTime": {
     "end_time": "2022-03-15T20:06:50.147099Z",
     "start_time": "2022-03-15T20:06:50.136729Z"
    }
   },
   "outputs": [
    {
     "data": {
      "text/plain": [
       "dataset          location                                                           \n",
       "podcast_round1   80 mi. south of Martha's Vineyard, Massachusetts                          1\n",
       "                 80 mi. south of Martha's Vineyard, Massachusetts    X                     1\n",
       "                 Andenes, Norway                                                         156\n",
       "                 Dabob Bay, Seattle, Washington                                            1\n",
       "                 Kikvika, Norway                                                         472\n",
       "                 Oregon Coast Aquarium                                                  1011\n",
       "                 Oregon Coastal Aquarium, Newport, OR                                    437\n",
       "                 Oregon Coastal Aquarium, Newport, OR    X                                 5\n",
       "                 Outside St. John's Hbr., Newfoundland                                    13\n",
       "                 Saanich Inlet, Victoria, VAncouver Island, British Columbia, Canada       1\n",
       "                 Saanich Inlet, Victoria, Vancouver Island, British Columbia, Canada       7\n",
       "                 T3 Ice Island, Canada                                                     6\n",
       "                 Vancouver, British Columbia                                              16\n",
       "                 WHOIS                                                                    51\n",
       "podcast_round10  bush_point                                                               76\n",
       "podcast_round11  bush_point                                                              118\n",
       "podcast_round12  port_townsend                                                            54\n",
       "podcast_round2   orcasound_lab                                                            57\n",
       "podcast_round3   orcasound_lab                                                            92\n",
       "podcast_round5   orcasound_lab                                                            31\n",
       "podcast_round6   orcasound_lab                                                            37\n",
       "podcast_round7   orcasound_lab                                                           167\n",
       "podcast_round9   port_townsend                                                            55\n",
       "Name: wav_filename, dtype: int64"
      ]
     },
     "execution_count": 4,
     "metadata": {},
     "output_type": "execute_result"
    }
   ],
   "source": [
    "# Check the number of files per dataset and location\n",
    "tsv_files.groupby(['dataset', 'location'])['wav_filename'].nunique()"
   ]
  },
  {
   "cell_type": "markdown",
   "id": "5b7f4b70",
   "metadata": {},
   "source": [
    "We are unable to process some of the files so we will only be using a subset moving forward but this subset still contains majority of the data."
   ]
  },
  {
   "cell_type": "code",
   "execution_count": 5,
   "id": "1b1fd144",
   "metadata": {
    "ExecuteTime": {
     "end_time": "2022-03-15T20:06:50.155551Z",
     "start_time": "2022-03-15T20:06:50.148743Z"
    }
   },
   "outputs": [
    {
     "data": {
      "text/plain": [
       "array(['podcast_round1', 'podcast_round2', 'podcast_round3',\n",
       "       'podcast_round5', 'podcast_round11'], dtype=object)"
      ]
     },
     "execution_count": 5,
     "metadata": {},
     "output_type": "execute_result"
    }
   ],
   "source": [
    "# Obtain a subset to be used for the analysis\n",
    "subset = ['podcast_round1', 'podcast_round2',\n",
    "          'podcast_round3', 'podcast_round5', 'podcast_round11']\n",
    "df = tsv_files[tsv_files['dataset'].isin(subset)]\n",
    "df['dataset'].unique()"
   ]
  },
  {
   "cell_type": "code",
   "execution_count": 6,
   "id": "a6ac40fa",
   "metadata": {
    "ExecuteTime": {
     "end_time": "2022-03-15T20:06:50.165796Z",
     "start_time": "2022-03-15T20:06:50.157058Z"
    }
   },
   "outputs": [
    {
     "name": "stdout",
     "output_type": "stream",
     "text": [
      "Total number of files: 2863\n",
      "Number of files to be used: 2474\n",
      "Number of files dropped: 389\n",
      "Number of unique WAV files: 254\n"
     ]
    }
   ],
   "source": [
    "# Check the number of files to be used\n",
    "print(f\"Total number of files: {tsv_files['wav_filename'].nunique()}\")\n",
    "print(f\"Number of files to be used: {df['wav_filename'].nunique()}\")\n",
    "print(f\"Number of files dropped: {tsv_files['wav_filename'].nunique() - df['wav_filename'].nunique()}\")\n",
    "print(f\"Number of unique WAV files: {df['pst_or_master_tape_identifier'].nunique()}\")"
   ]
  },
  {
   "cell_type": "markdown",
   "id": "c7c66064",
   "metadata": {},
   "source": [
    "## 2. Preprocess and split the data\n",
    "\n",
    "From the total number of unique WAV files, we arbitrarily obtained 12% (30 files) for our validation set. The remaining files were assigned to the training data. Using `dataloader.AudioFileDataset`, we were able to split these files into windows using the start time and duration in the `annotations.tsv` file. We then saved this as a pickle file for faster access in succeeding runs. "
   ]
  },
  {
   "cell_type": "code",
   "execution_count": 7,
   "id": "e61b3cb3",
   "metadata": {
    "ExecuteTime": {
     "end_time": "2022-03-15T20:06:50.172795Z",
     "start_time": "2022-03-15T20:06:50.167537Z"
    }
   },
   "outputs": [
    {
     "name": "stdout",
     "output_type": "stream",
     "text": [
      "30\n"
     ]
    }
   ],
   "source": [
    "# Randomly choose files to include in validation set\n",
    "dev_master_wavs = [\"60012\", \"92303\", \"97745\", '97782', '97768', '97783',\n",
    "                   '64017', '64019', '66016', '97751', '97752', '97754',\n",
    "                   '08:19:00', '08:25:00', '10:28:00', '10:55:00', '10:28:00',\n",
    "                   '10:55:00', '09:45:00', '09:50:00', '09:56:00', '19:18:00',\n",
    "                   '19:36:00', '12:12:00', '15:24:00', '15:28:00', '02:00:00',\n",
    "                   '12:39:00', '19:47:00', '11:53:00']\n",
    "\n",
    "print(len(dev_master_wavs))"
   ]
  },
  {
   "cell_type": "code",
   "execution_count": 8,
   "id": "2897f3f4",
   "metadata": {
    "ExecuteTime": {
     "end_time": "2022-03-15T20:06:50.189359Z",
     "start_time": "2022-03-15T20:06:50.174409Z"
    }
   },
   "outputs": [
    {
     "name": "stderr",
     "output_type": "stream",
     "text": [
      "/tmp/ipykernel_21148/1451428480.py:5: UserWarning: Boolean Series key will be reindexed to match DataFrame index.\n",
      "  dev_df = (df[tsv_files.pst_or_master_tape_identifier.isin(dev_master_wavs)]\n"
     ]
    }
   ],
   "source": [
    "# Assign these files to training or to validation\n",
    "train_df = (df[~df.pst_or_master_tape_identifier.isin(dev_master_wavs)]\n",
    "            .sort_values(['wav_filename', 'start_time_s'])\n",
    "            .reset_index(drop=True))\n",
    "dev_df = (df[tsv_files.pst_or_master_tape_identifier.isin(dev_master_wavs)]\n",
    "          .sort_values(['wav_filename', 'start_time_s'])\n",
    "          .reset_index(drop=True))"
   ]
  },
  {
   "cell_type": "code",
   "execution_count": 9,
   "id": "65a4e826",
   "metadata": {
    "ExecuteTime": {
     "end_time": "2022-03-15T20:06:50.193907Z",
     "start_time": "2022-03-15T20:06:50.191159Z"
    }
   },
   "outputs": [],
   "source": [
    "# Save the selected files to a tsv file\n",
    "# train_df.to_csv(\"../../TrainDataLatest/train.tsv\", sep='\\t',index=False)\n",
    "# dev_df.to_csv(\"../../TrainDataLatest/dev.tsv\", sep='\\t',index=False)"
   ]
  },
  {
   "cell_type": "code",
   "execution_count": 93,
   "id": "e2ed8cc9",
   "metadata": {
    "ExecuteTime": {
     "end_time": "2022-03-15T20:24:54.777864Z",
     "start_time": "2022-03-15T20:24:54.744861Z"
    }
   },
   "outputs": [
    {
     "data": {
      "text/html": [
       "<div>\n",
       "<style scoped>\n",
       "    .dataframe tbody tr th:only-of-type {\n",
       "        vertical-align: middle;\n",
       "    }\n",
       "\n",
       "    .dataframe tbody tr th {\n",
       "        vertical-align: top;\n",
       "    }\n",
       "\n",
       "    .dataframe thead th {\n",
       "        text-align: right;\n",
       "    }\n",
       "</style>\n",
       "<table border=\"1\" class=\"dataframe\">\n",
       "  <thead>\n",
       "    <tr style=\"text-align: right;\">\n",
       "      <th></th>\n",
       "      <th>dataset</th>\n",
       "      <th>wav_filename</th>\n",
       "      <th>start_time_s</th>\n",
       "      <th>duration_s</th>\n",
       "      <th>location</th>\n",
       "      <th>date</th>\n",
       "      <th>pst_or_master_tape_identifier</th>\n",
       "    </tr>\n",
       "  </thead>\n",
       "  <tbody>\n",
       "    <tr>\n",
       "      <th>0</th>\n",
       "      <td>podcast_round2</td>\n",
       "      <td>1562337136_0004.wav</td>\n",
       "      <td>37.345486</td>\n",
       "      <td>1.743924</td>\n",
       "      <td>orcasound_lab</td>\n",
       "      <td>2019-07-05</td>\n",
       "      <td>07:32:16</td>\n",
       "    </tr>\n",
       "    <tr>\n",
       "      <th>1</th>\n",
       "      <td>podcast_round2</td>\n",
       "      <td>1562337136_0004.wav</td>\n",
       "      <td>41.046007</td>\n",
       "      <td>1.658854</td>\n",
       "      <td>orcasound_lab</td>\n",
       "      <td>2019-07-05</td>\n",
       "      <td>07:32:16</td>\n",
       "    </tr>\n",
       "    <tr>\n",
       "      <th>2</th>\n",
       "      <td>podcast_round2</td>\n",
       "      <td>1562337136_0004.wav</td>\n",
       "      <td>42.917535</td>\n",
       "      <td>2.594618</td>\n",
       "      <td>orcasound_lab</td>\n",
       "      <td>2019-07-05</td>\n",
       "      <td>07:32:16</td>\n",
       "    </tr>\n",
       "    <tr>\n",
       "      <th>3</th>\n",
       "      <td>podcast_round2</td>\n",
       "      <td>1562337136_0004.wav</td>\n",
       "      <td>45.980035</td>\n",
       "      <td>2.041667</td>\n",
       "      <td>orcasound_lab</td>\n",
       "      <td>2019-07-05</td>\n",
       "      <td>07:32:16</td>\n",
       "    </tr>\n",
       "    <tr>\n",
       "      <th>4</th>\n",
       "      <td>podcast_round2</td>\n",
       "      <td>1562337136_0004.wav</td>\n",
       "      <td>49.765625</td>\n",
       "      <td>2.450000</td>\n",
       "      <td>orcasound_lab</td>\n",
       "      <td>2019-07-05</td>\n",
       "      <td>07:32:16</td>\n",
       "    </tr>\n",
       "  </tbody>\n",
       "</table>\n",
       "</div>"
      ],
      "text/plain": [
       "          dataset         wav_filename  start_time_s  duration_s  \\\n",
       "0  podcast_round2  1562337136_0004.wav     37.345486    1.743924   \n",
       "1  podcast_round2  1562337136_0004.wav     41.046007    1.658854   \n",
       "2  podcast_round2  1562337136_0004.wav     42.917535    2.594618   \n",
       "3  podcast_round2  1562337136_0004.wav     45.980035    2.041667   \n",
       "4  podcast_round2  1562337136_0004.wav     49.765625    2.450000   \n",
       "\n",
       "        location        date pst_or_master_tape_identifier  \n",
       "0  orcasound_lab  2019-07-05                      07:32:16  \n",
       "1  orcasound_lab  2019-07-05                      07:32:16  \n",
       "2  orcasound_lab  2019-07-05                      07:32:16  \n",
       "3  orcasound_lab  2019-07-05                      07:32:16  \n",
       "4  orcasound_lab  2019-07-05                      07:32:16  "
      ]
     },
     "execution_count": 93,
     "metadata": {},
     "output_type": "execute_result"
    }
   ],
   "source": [
    "# Load and check the new train file\n",
    "train = pd.read_csv(\"../../TrainDataLatest/train.tsv\",sep='\\t')\n",
    "train.head()"
   ]
  },
  {
   "cell_type": "code",
   "execution_count": 97,
   "id": "fc60df5c",
   "metadata": {
    "ExecuteTime": {
     "end_time": "2022-03-15T20:25:44.574067Z",
     "start_time": "2022-03-15T20:25:43.462615Z"
    }
   },
   "outputs": [
    {
     "name": "stdout",
     "output_type": "stream",
     "text": [
      "dataset                           podcast_round1\n",
      "wav_filename                        9230201V.wav\n",
      "start_time_s                                 0.0\n",
      "duration_s                                 3.295\n",
      "location                         Kikvika, Norway\n",
      "date                                  1992-12-29\n",
      "pst_or_master_tape_identifier              92302\n",
      "Name: 1800, dtype: object\n"
     ]
    },
    {
     "data": {
      "image/png": "[encoded data removed]",
      "text/plain": [
       "<Figure size 432x288 with 1 Axes>"
      ]
     },
     "metadata": {
      "needs_background": "light"
     },
     "output_type": "display_data"
    }
   ],
   "source": [
    "# inspect a few random annotations \n",
    "row = train.iloc[np.random.randint(len(train))]\n",
    "print(row)\n",
    "\n",
    "af = dataloader.AudioFile(f\"../../TrainDataLatest/wav/{row['wav_filename']}\",\n",
    "                          params.SAMPLE_RATE)\n",
    "start_idx = int(row[\"start_time_s\"] * params.SAMPLE_RATE) \n",
    "end_idx = int(start_idx + row[\"duration_s\"] * params.SAMPLE_RATE)\n",
    "\n",
    "plt.imshow(af.get_window(start_idx, end_idx).T);"
   ]
  },
  {
   "cell_type": "code",
   "execution_count": 11,
   "id": "f0892353",
   "metadata": {
    "ExecuteTime": {
     "end_time": "2022-03-15T20:06:50.749143Z",
     "start_time": "2022-03-15T20:06:50.743353Z"
    }
   },
   "outputs": [],
   "source": [
    "# Create the data\n",
    "# wav_dataset = dataloader.AudioFileDataset(\n",
    "#     \"../../TrainDataLatest/wav\", \n",
    "#     \"../../TrainDataLatest/train.tsv\",\n",
    "#     mean=\"../../TrainDataLatest/mean.tsv\",\n",
    "#     invstd=\"../../TrainDataLatest/invst.tsv\")\n",
    "\n",
    "# wav_dataset_dev = dataloader.AudioFileDataset(\n",
    "#     \"../../TrainDataLatest/wav\", \n",
    "#     \"../../TrainDataLatest/dev.tsv\",\n",
    "#     mean=\"../../TrainDataLatest/dev_mean.tsv\",\n",
    "#     invstd=\"../../TrainDataLatest/dev_invst.tsv\")\n",
    "\n",
    "# test_dataset = dataloader.AudioFileDataset(\n",
    "#     \"../../TestDataLatest_PodCastAllRounds_123/wav\", \n",
    "#     \"../../TestDataLatest_PodCastAllRounds_123/test.tsv\",\n",
    "#     mean=\"../../TestDataLatest_PodCastAllRounds_123/mean.tsv\",\n",
    "#     invstd=\"../../TestDataLatest_PodCastAllRounds_123/invst.tsv\")"
   ]
  },
  {
   "cell_type": "code",
   "execution_count": 12,
   "id": "25379426",
   "metadata": {
    "ExecuteTime": {
     "end_time": "2022-03-15T20:06:50.756655Z",
     "start_time": "2022-03-15T20:06:50.752472Z"
    }
   },
   "outputs": [],
   "source": [
    "# Save the data into pickle file\n",
    "# with open('wav_dataset.pkl', 'wb') as f:\n",
    "#     pickle.dump(wav_dataset, f)\n",
    "    \n",
    "# with open('wav_dataset_dev.pkl', 'wb') as f:\n",
    "#     pickle.dump(wav_dataset_dev, f)\n",
    "    \n",
    "# with open('test_dataset.pkl', 'wb') as f:\n",
    "#     pickle.dump(test_dataset, f)"
   ]
  },
  {
   "cell_type": "markdown",
   "id": "5eeff467",
   "metadata": {},
   "source": [
    "We now have a dataset containing windows for each sound file. We can see in the cell below the number of entries for train, val, and test. These were obtained from the 2474 files in the subset."
   ]
  },
  {
   "cell_type": "code",
   "execution_count": 13,
   "id": "648eb6a7",
   "metadata": {
    "ExecuteTime": {
     "end_time": "2022-03-15T20:07:00.892110Z",
     "start_time": "2022-03-15T20:06:50.759940Z"
    }
   },
   "outputs": [
    {
     "name": "stdout",
     "output_type": "stream",
     "text": [
      "Files in train set:      14130\n",
      "Files in validation set: 1192\n",
      "Files in test set:       3457\n"
     ]
    }
   ],
   "source": [
    "# Load the data from the pickle file\n",
    "with open('wav_dataset.pkl', 'rb') as f:\n",
    "    wav_dataset = pickle.load(f)\n",
    "    \n",
    "with open('wav_dataset_dev.pkl', 'rb') as f:\n",
    "    wav_dataset_dev = pickle.load(f)\n",
    "    \n",
    "with open('test_dataset.pkl', 'rb') as f:\n",
    "    test_dataset = pickle.load(f)\n",
    "    \n",
    "# Check size of data\n",
    "print(f\"Files in train set:      {len(wav_dataset)}\")\n",
    "print(f\"Files in validation set: {len(wav_dataset_dev)}\")\n",
    "print(f\"Files in test set:       {len(test_dataset)}\")"
   ]
  },
  {
   "cell_type": "markdown",
   "id": "9cfc1369",
   "metadata": {},
   "source": [
    "In the bar charts below, we can see that the data is imbalanced. Only around 30% of the data has killer whale sounds. We therefore need to address this imbalance when we model."
   ]
  },
  {
   "cell_type": "code",
   "execution_count": 14,
   "id": "92b870ef",
   "metadata": {
    "ExecuteTime": {
     "end_time": "2022-03-15T20:07:01.171221Z",
     "start_time": "2022-03-15T20:07:00.894791Z"
    }
   },
   "outputs": [
    {
     "name": "stderr",
     "output_type": "stream",
     "text": [
      "/opt/conda/lib/python3.9/site-packages/seaborn/_decorators.py:36: FutureWarning: Pass the following variable as a keyword arg: x. From version 0.12, the only valid positional argument will be `data`, and passing other arguments without an explicit keyword will result in an error or misinterpretation.\n",
      "  warnings.warn(\n",
      "/opt/conda/lib/python3.9/site-packages/seaborn/_decorators.py:36: FutureWarning: Pass the following variable as a keyword arg: x. From version 0.12, the only valid positional argument will be `data`, and passing other arguments without an explicit keyword will result in an error or misinterpretation.\n",
      "  warnings.warn(\n",
      "/opt/conda/lib/python3.9/site-packages/seaborn/_decorators.py:36: FutureWarning: Pass the following variable as a keyword arg: x. From version 0.12, the only valid positional argument will be `data`, and passing other arguments without an explicit keyword will result in an error or misinterpretation.\n",
      "  warnings.warn(\n"
     ]
    },
    {
     "data": {
      "text/plain": [
       "Text(0.5, 1.0, 'Test % whale: 23.86')"
      ]
     },
     "execution_count": 14,
     "metadata": {},
     "output_type": "execute_result"
    },
    {
     "data": {
      "image/png": "[encoded data removed]",
      "text/plain": [
       "<Figure size 1152x432 with 3 Axes>"
      ]
     },
     "metadata": {
      "needs_background": "light"
     },
     "output_type": "display_data"
    }
   ],
   "source": [
    "fig, axs = plt.subplots(1, 3, figsize=(16, 6))\n",
    "ax = axs.ravel()\n",
    "\n",
    "train_labels = [l[2] for l in wav_dataset.windows]\n",
    "val_labels = [l[2] for l in wav_dataset_dev.windows]\n",
    "test_labels = [l[2] for l in test_dataset.windows]\n",
    "\n",
    "train_label_pct = sum(train_labels)/len(train_labels)*100\n",
    "val_label_pct = sum(val_labels)/len(val_labels)*100\n",
    "test_label_pct = sum(test_labels)/len(test_labels)*100\n",
    "\n",
    "sns.countplot(train_labels, ax=ax[0])\n",
    "ax[0].set_title(f\"Train % whale: {train_label_pct:.2f}\")\n",
    "sns.countplot(val_labels, ax=ax[1])\n",
    "ax[1].set_title(f\"Val % whale: {val_label_pct:.2f}\")\n",
    "sns.countplot(test_labels, ax=ax[2])\n",
    "ax[2].set_title(f\"Test % whale: {test_label_pct:.2f}\")"
   ]
  },
  {
   "cell_type": "code",
   "execution_count": 15,
   "id": "5453a9e5",
   "metadata": {
    "ExecuteTime": {
     "end_time": "2022-03-15T20:07:01.181502Z",
     "start_time": "2022-03-15T20:07:01.173868Z"
    }
   },
   "outputs": [
    {
     "name": "stdout",
     "output_type": "stream",
     "text": [
      "14130\n",
      "\n",
      "Window\n"
     ]
    },
    {
     "data": {
      "text/plain": [
       "[(0, 49000, 0, <src.dataloader.AudioFile at 0x7f1bed1f5520>),\n",
       " (49000, 98000, 0, <src.dataloader.AudioFile at 0x7f1bed1f5520>),\n",
       " (98000, 147000, 0, <src.dataloader.AudioFile at 0x7f1bed1f5520>),\n",
       " (147000, 196000, 0, <src.dataloader.AudioFile at 0x7f1bed1f5520>),\n",
       " (196000, 245000, 0, <src.dataloader.AudioFile at 0x7f1bed1f5520>),\n",
       " (245000, 294000, 0, <src.dataloader.AudioFile at 0x7f1bed1f5520>),\n",
       " (294000, 343000, 0, <src.dataloader.AudioFile at 0x7f1bed1f5520>),\n",
       " (343000, 392000, 0, <src.dataloader.AudioFile at 0x7f1bed1f5520>),\n",
       " (392000, 441000, 0, <src.dataloader.AudioFile at 0x7f1bed1f5520>),\n",
       " (441000, 490000, 0, <src.dataloader.AudioFile at 0x7f1bed1f5520>),\n",
       " (490000, 539000, 0, <src.dataloader.AudioFile at 0x7f1bed1f5520>),\n",
       " (539000, 588000, 0, <src.dataloader.AudioFile at 0x7f1bed1f5520>),\n",
       " (588000, 637000, 0, <src.dataloader.AudioFile at 0x7f1bed1f5520>),\n",
       " (637000, 686000, 0, <src.dataloader.AudioFile at 0x7f1bed1f5520>),\n",
       " (686000, 735000, 0, <src.dataloader.AudioFile at 0x7f1bed1f5520>),\n",
       " (746909, 795909, 1, <src.dataloader.AudioFile at 0x7f1bed1f5520>),\n",
       " (820920, 869920, 1, <src.dataloader.AudioFile at 0x7f1bed1f5520>),\n",
       " (858350, 907350, 1, <src.dataloader.AudioFile at 0x7f1bed1f5520>),\n",
       " (919600, 968600, 1, <src.dataloader.AudioFile at 0x7f1bed1f5520>),\n",
       " (995312, 1044312, 1, <src.dataloader.AudioFile at 0x7f1bed1f5520>)]"
      ]
     },
     "metadata": {},
     "output_type": "display_data"
    }
   ],
   "source": [
    "# Inspect the window data\n",
    "print(len(wav_dataset.windows))\n",
    "print(f'\\nWindow')\n",
    "display(wav_dataset.windows[:20])"
   ]
  },
  {
   "cell_type": "markdown",
   "id": "9b6a0be6",
   "metadata": {},
   "source": [
    "We can obtain some intuition by checking how a spectrogram with killer whale sounds looks like. We can filter all the windows with killer whales from the list of windows and randomly visualize a few from those. The same process can be applied to non-killer whales spectrograms. We again save these spectrograms to a pickle file which will be used for modeling."
   ]
  },
  {
   "cell_type": "code",
   "execution_count": 16,
   "id": "c925721b",
   "metadata": {
    "ExecuteTime": {
     "end_time": "2022-03-15T20:07:01.189943Z",
     "start_time": "2022-03-15T20:07:01.183252Z"
    }
   },
   "outputs": [],
   "source": [
    "# Identify the windows with killer whale and without killer whale\n",
    "whale = [n for n, l in enumerate(wav_dataset.windows) if l[2] == 1]\n",
    "non_whale = [n for n, l in enumerate(wav_dataset.windows) if l[2] == 0]"
   ]
  },
  {
   "cell_type": "code",
   "execution_count": 122,
   "id": "089a6a73",
   "metadata": {
    "ExecuteTime": {
     "end_time": "2022-03-15T20:31:54.818357Z",
     "start_time": "2022-03-15T20:31:54.340212Z"
    }
   },
   "outputs": [
    {
     "data": {
      "image/png": "[encoded data removed]",
      "text/plain": [
       "<Figure size 1152x432 with 2 Axes>"
      ]
     },
     "metadata": {
      "needs_background": "light"
     },
     "output_type": "display_data"
    }
   ],
   "source": [
    "# Plot the windows with killer whale\n",
    "fig, axs = plt.subplots(1, 2, figsize=(16, 6))\n",
    "ax = axs.ravel()\n",
    "\n",
    "af1 = wav_dataset.windows[9190][3]\n",
    "af2 = wav_dataset.windows[590][3]\n",
    "start_idx = int(0 * params.SAMPLE_RATE) \n",
    "end_idx = int(2.5 * params.SAMPLE_RATE)\n",
    "\n",
    "ax[0].imshow(af1.get_window(start_idx, end_idx).T);\n",
    "ax[1].imshow(af2.get_window(start_idx, end_idx).T)\n",
    "plt.suptitle(\"Spectrogram with Killer Whale Sound\", fontsize=16);\n"
   ]
  },
  {
   "cell_type": "code",
   "execution_count": 123,
   "id": "9b1b91c9",
   "metadata": {
    "ExecuteTime": {
     "end_time": "2022-03-15T20:32:02.842030Z",
     "start_time": "2022-03-15T20:32:02.327240Z"
    }
   },
   "outputs": [
    {
     "data": {
      "image/png": "[encoded data removed]",
      "text/plain": [
       "<Figure size 1152x432 with 2 Axes>"
      ]
     },
     "metadata": {
      "needs_background": "light"
     },
     "output_type": "display_data"
    }
   ],
   "source": [
    "# Plot the windows without killer whale\n",
    "fig, axs = plt.subplots(1, 2, figsize=(16, 6))\n",
    "ax = axs.ravel()\n",
    "\n",
    "af1 = wav_dataset.windows[13697][3]\n",
    "af2 = wav_dataset.windows[1696][3]\n",
    "start_idx = int(0 * params.SAMPLE_RATE) \n",
    "end_idx = int(2.5 * params.SAMPLE_RATE)\n",
    "\n",
    "ax[0].imshow(af1.get_window(start_idx, end_idx).T);\n",
    "ax[1].imshow(af2.get_window(start_idx, end_idx).T)\n",
    "plt.suptitle(\"Spectrogram without Killer Whale Sound\", fontsize=16);"
   ]
  },
  {
   "cell_type": "code",
   "execution_count": 19,
   "id": "80835b54",
   "metadata": {
    "ExecuteTime": {
     "end_time": "2022-03-15T20:07:02.035449Z",
     "start_time": "2022-03-15T20:07:02.032174Z"
    }
   },
   "outputs": [],
   "source": [
    "# train_image = []\n",
    "# train_label = []\n",
    "# for i in tqdm(range(len(wav_dataset.windows))):\n",
    "#     x = wav_dataset.windows[i][3]\n",
    "#     y = x.get_window(wav_dataset.windows[i][0], wav_dataset.windows[i][1]).T\n",
    "#     train_image.append(y)\n",
    "#     train_label.append(wav_dataset.windows[i][2])"
   ]
  },
  {
   "cell_type": "code",
   "execution_count": 20,
   "id": "ffcf81e6",
   "metadata": {
    "ExecuteTime": {
     "end_time": "2022-03-15T20:07:02.042512Z",
     "start_time": "2022-03-15T20:07:02.037012Z"
    }
   },
   "outputs": [],
   "source": [
    "# val_image = []\n",
    "# val_label = []\n",
    "# for i in tqdm(range(len(wav_dataset_dev.windows))):\n",
    "#     x = wav_dataset_dev.windows[i][3]\n",
    "#     y = x.get_window(wav_dataset_dev.windows[i][0],\n",
    "#                      wav_dataset_dev.windows[i][1]).T\n",
    "#     val_image.append(y)\n",
    "#     val_label.append(wav_dataset_dev.windows[i][2])"
   ]
  },
  {
   "cell_type": "code",
   "execution_count": 21,
   "id": "74200a62",
   "metadata": {
    "ExecuteTime": {
     "end_time": "2022-03-15T20:07:02.047275Z",
     "start_time": "2022-03-15T20:07:02.044197Z"
    }
   },
   "outputs": [],
   "source": [
    "# test_image = []\n",
    "# test_label = []\n",
    "# for i in tqdm(range(len(test_dataset.windows))):\n",
    "#     x = test_dataset.windows[i][3]\n",
    "#     y = x.get_window(test_dataset.windows[i][0],\n",
    "#                      test_dataset.windows[i][1]).T\n",
    "#     test_image.append(y)\n",
    "#     test_label.append(test_dataset.windows[i][2])"
   ]
  },
  {
   "cell_type": "code",
   "execution_count": 22,
   "id": "8ee5ec75",
   "metadata": {
    "ExecuteTime": {
     "end_time": "2022-03-15T20:07:02.052651Z",
     "start_time": "2022-03-15T20:07:02.049413Z"
    }
   },
   "outputs": [],
   "source": [
    "# with open('train_data.pkl', 'wb') as f:\n",
    "#     pickle.dump(train_image, f)\n",
    "    \n",
    "# with open('train_label.pkl', 'wb') as f:\n",
    "#     pickle.dump(train_label, f)\n",
    "    \n",
    "# with open('val_data.pkl', 'wb') as f:\n",
    "#     pickle.dump(val_image, f)\n",
    "    \n",
    "# with open('val_label.pkl', 'wb') as f:\n",
    "#     pickle.dump(val_label, f)\n",
    "    \n",
    "# with open('test_image.pkl', 'wb') as f:\n",
    "#     pickle.dump(test_image, f)\n",
    "    \n",
    "# with open('test_label.pkl', 'wb') as f:\n",
    "#     pickle.dump(test_label, f)"
   ]
  },
  {
   "cell_type": "markdown",
   "id": "f7ba3669",
   "metadata": {
    "ExecuteTime": {
     "end_time": "2022-02-27T15:58:02.508562Z",
     "start_time": "2022-02-27T15:58:02.502953Z"
    }
   },
   "source": [
    "## 3. Modeling\n",
    "\n",
    "Four models were tested to classify the spectrograms. The first model is a basic convolutional neural network with max pooling. This was used to serve as the baseline model to show how a simple model will perform. This was followed by the same model but using focal loss as the loss function. As seen in the EDA above, the data is imbalanced. Focal loss was used to see if it performs better in predicting the minority class, which in this case is the killer whale.\n",
    "\n",
    "Next we tried copying the ResNet50 architecture. ResNet50 was the architecture used in the published humpback whale classification paper. Since we are working with audio data originally, we could not directly use the pre-trained ResNet50 model. Instead, we copied the architecture using the guide from [machinelearningknowledge.ai](https://machinelearningknowledge.ai/keras-implementation-of-resnet-50-architecture-from-scratch/) and attempted to obtain good results. \n",
    "\n",
    "Another hypothesis is that the ResNet50 may be too much for our need. We attempted to remove a few layers of the ResNet50 architecture to create a customized ResNet and see how this performs in comparison with the former."
   ]
  },
  {
   "cell_type": "code",
   "execution_count": 23,
   "id": "21b85f91",
   "metadata": {
    "ExecuteTime": {
     "end_time": "2022-03-15T20:07:02.474930Z",
     "start_time": "2022-03-15T20:07:02.054936Z"
    }
   },
   "outputs": [],
   "source": [
    "# Load the images\n",
    "with open('train_data.pkl', 'rb') as f:\n",
    "    train_image = pickle.load(f)\n",
    "    \n",
    "with open('train_label.pkl', 'rb') as f:\n",
    "    train_label = pickle.load(f)\n",
    "    \n",
    "with open('val_data.pkl', 'rb') as f:\n",
    "    val_image = pickle.load(f)\n",
    "    \n",
    "with open('val_label.pkl', 'rb') as f:\n",
    "    val_label = pickle.load(f)\n",
    "    \n",
    "with open('test_image.pkl', 'rb') as f:\n",
    "    test_image = pickle.load(f)\n",
    "    \n",
    "with open('test_label.pkl', 'rb') as f:\n",
    "    test_label = pickle.load(f)"
   ]
  },
  {
   "cell_type": "code",
   "execution_count": 24,
   "id": "a1b9dfb7",
   "metadata": {
    "ExecuteTime": {
     "end_time": "2022-03-15T20:07:03.295314Z",
     "start_time": "2022-03-15T20:07:02.476595Z"
    }
   },
   "outputs": [],
   "source": [
    "# Convert images to float\n",
    "train_image = np.array(train_image).astype(\"float32\")\n",
    "val_image = np.array(val_image).astype(\"float32\")\n",
    "test_image = np.array(test_image).astype(\"float32\")"
   ]
  },
  {
   "cell_type": "markdown",
   "id": "4ca47a37",
   "metadata": {
    "ExecuteTime": {
     "end_time": "2022-03-15T21:21:37.626725Z",
     "start_time": "2022-03-15T21:21:37.621357Z"
    }
   },
   "source": [
    "### a. Simple CNN"
   ]
  },
  {
   "cell_type": "code",
   "execution_count": 25,
   "id": "f9faef99",
   "metadata": {
    "ExecuteTime": {
     "end_time": "2022-03-15T20:07:07.701612Z",
     "start_time": "2022-03-15T20:07:03.297346Z"
    }
   },
   "outputs": [
    {
     "name": "stderr",
     "output_type": "stream",
     "text": [
      "2022-03-16 04:07:03.357697: I tensorflow/core/platform/cpu_feature_guard.cc:142] This TensorFlow binary is optimized with oneAPI Deep Neural Network Library (oneDNN) to use the following CPU instructions in performance-critical operations:  AVX2 AVX512F FMA\n",
      "To enable them in other operations, rebuild TensorFlow with the appropriate compiler flags.\n",
      "2022-03-16 04:07:07.437597: I tensorflow/core/common_runtime/gpu/gpu_device.cc:1510] Created device /job:localhost/replica:0/task:0/device:GPU:0 with 8706 MB memory:  -> device: 0, name: GeForce RTX 2080 Ti, pci bus id: 0000:3d:00.0, compute capability: 7.5\n"
     ]
    }
   ],
   "source": [
    "from tensorflow import keras\n",
    "from tensorflow.keras import layers\n",
    "\n",
    "inputs = keras.Input(shape=(64, 96, 1))\n",
    "\n",
    "x = layers.Conv2D(filters=32, kernel_size=3, activation=\"relu\")(inputs)\n",
    "x = layers.MaxPooling2D(pool_size=2)(x)\n",
    "x = layers.Conv2D(filters=64, kernel_size=3, activation=\"relu\")(x)\n",
    "x = layers.MaxPooling2D(pool_size=2)(x)\n",
    "x = layers.Conv2D(filters=128, kernel_size=3, activation=\"relu\")(x)\n",
    "x = layers.Flatten()(x)\n",
    "\n",
    "outputs = layers.Dense(1, activation=\"sigmoid\")(x)\n",
    "model = keras.Model(inputs=inputs, outputs=outputs)"
   ]
  },
  {
   "cell_type": "code",
   "execution_count": 26,
   "id": "b79b0e02",
   "metadata": {
    "ExecuteTime": {
     "end_time": "2022-03-15T20:07:07.712428Z",
     "start_time": "2022-03-15T20:07:07.703553Z"
    }
   },
   "outputs": [
    {
     "name": "stdout",
     "output_type": "stream",
     "text": [
      "Model: \"model\"\n",
      "_________________________________________________________________\n",
      "Layer (type)                 Output Shape              Param #   \n",
      "=================================================================\n",
      "input_1 (InputLayer)         [(None, 64, 96, 1)]       0         \n",
      "_________________________________________________________________\n",
      "conv2d (Conv2D)              (None, 62, 94, 32)        320       \n",
      "_________________________________________________________________\n",
      "max_pooling2d (MaxPooling2D) (None, 31, 47, 32)        0         \n",
      "_________________________________________________________________\n",
      "conv2d_1 (Conv2D)            (None, 29, 45, 64)        18496     \n",
      "_________________________________________________________________\n",
      "max_pooling2d_1 (MaxPooling2 (None, 14, 22, 64)        0         \n",
      "_________________________________________________________________\n",
      "conv2d_2 (Conv2D)            (None, 12, 20, 128)       73856     \n",
      "_________________________________________________________________\n",
      "flatten (Flatten)            (None, 30720)             0         \n",
      "_________________________________________________________________\n",
      "dense (Dense)                (None, 1)                 30721     \n",
      "=================================================================\n",
      "Total params: 123,393\n",
      "Trainable params: 123,393\n",
      "Non-trainable params: 0\n",
      "_________________________________________________________________\n"
     ]
    }
   ],
   "source": [
    "model.summary()"
   ]
  },
  {
   "cell_type": "code",
   "execution_count": 28,
   "id": "e3f798a0",
   "metadata": {
    "ExecuteTime": {
     "end_time": "2022-03-15T20:07:40.345540Z",
     "start_time": "2022-03-15T20:07:07.733050Z"
    }
   },
   "outputs": [
    {
     "name": "stderr",
     "output_type": "stream",
     "text": [
      "2022-03-16 04:07:08.425547: I tensorflow/compiler/mlir/mlir_graph_optimization_pass.cc:185] None of the MLIR Optimization Passes are enabled (registered 2)\n"
     ]
    },
    {
     "name": "stdout",
     "output_type": "stream",
     "text": [
      "Epoch 1/10\n"
     ]
    },
    {
     "name": "stderr",
     "output_type": "stream",
     "text": [
      "2022-03-16 04:07:09.896203: I tensorflow/stream_executor/cuda/cuda_dnn.cc:369] Loaded cuDNN version 8101\n",
      "2022-03-16 04:07:10.598074: I tensorflow/core/platform/default/subprocess.cc:304] Start cannot spawn child process: No such file or directory\n",
      "2022-03-16 04:07:10.599213: I tensorflow/core/platform/default/subprocess.cc:304] Start cannot spawn child process: No such file or directory\n",
      "2022-03-16 04:07:10.599243: W tensorflow/stream_executor/gpu/asm_compiler.cc:77] Couldn't get ptxas version string: Internal: Couldn't invoke ptxas --version\n",
      "2022-03-16 04:07:10.600138: I tensorflow/core/platform/default/subprocess.cc:304] Start cannot spawn child process: No such file or directory\n",
      "2022-03-16 04:07:10.600210: W tensorflow/stream_executor/gpu/redzone_allocator.cc:314] Internal: Failed to launch ptxas\n",
      "Relying on driver to perform ptx compilation. \n",
      "Modify $PATH to customize ptxas location.\n",
      "This message will be only logged once.\n"
     ]
    },
    {
     "name": "stdout",
     "output_type": "stream",
     "text": [
      "221/221 [==============================] - 7s 16ms/step - loss: 0.5878 - precision: 0.6408 - val_loss: 0.5248 - val_precision: 0.7876\n",
      "Epoch 2/10\n",
      "221/221 [==============================] - 3s 12ms/step - loss: 0.3882 - precision: 0.8036 - val_loss: 0.4420 - val_precision: 0.7855\n",
      "Epoch 3/10\n",
      "221/221 [==============================] - 3s 12ms/step - loss: 0.3173 - precision: 0.8753 - val_loss: 0.4662 - val_precision: 0.9404\n",
      "Epoch 4/10\n",
      "221/221 [==============================] - 3s 12ms/step - loss: 0.2878 - precision: 0.8962 - val_loss: 0.4043 - val_precision: 0.9196\n",
      "Epoch 5/10\n",
      "221/221 [==============================] - 3s 12ms/step - loss: 0.2645 - precision: 0.9036 - val_loss: 0.5308 - val_precision: 0.9910\n",
      "Epoch 6/10\n",
      "221/221 [==============================] - 3s 13ms/step - loss: 0.2474 - precision: 0.9127 - val_loss: 0.4015 - val_precision: 0.9429\n",
      "Epoch 7/10\n",
      "221/221 [==============================] - 3s 13ms/step - loss: 0.2347 - precision: 0.9162 - val_loss: 0.3861 - val_precision: 0.8285\n",
      "Epoch 8/10\n",
      "221/221 [==============================] - 3s 12ms/step - loss: 0.2192 - precision: 0.9181 - val_loss: 0.3536 - val_precision: 0.9017\n",
      "Epoch 9/10\n",
      "221/221 [==============================] - 3s 12ms/step - loss: 0.2074 - precision: 0.9221 - val_loss: 0.3827 - val_precision: 0.9531\n",
      "Epoch 10/10\n",
      "221/221 [==============================] - 3s 13ms/step - loss: 0.1947 - precision: 0.9236 - val_loss: 0.3981 - val_precision: 0.9457\n"
     ]
    },
    {
     "data": {
      "text/plain": [
       "<keras.callbacks.History at 0x7f1a39b59370>"
      ]
     },
     "execution_count": 28,
     "metadata": {},
     "output_type": "execute_result"
    }
   ],
   "source": [
    "import tensorflow as tf\n",
    "model.compile(optimizer=\"rmsprop\",\n",
    "    loss=\"binary_crossentropy\",\n",
    "    metrics=[tf.keras.metrics.Precision()])\n",
    "\n",
    "model.fit(train_image, np.array(train_label),\n",
    "          epochs=10, batch_size=64,\n",
    "          validation_data=(val_image, np.array(val_label)))"
   ]
  },
  {
   "cell_type": "code",
   "execution_count": 29,
   "id": "279b044d",
   "metadata": {
    "ExecuteTime": {
     "end_time": "2022-03-15T20:07:41.594118Z",
     "start_time": "2022-03-15T20:07:40.350048Z"
    }
   },
   "outputs": [
    {
     "name": "stdout",
     "output_type": "stream",
     "text": [
      "109/109 [==============================] - 1s 8ms/step - loss: 0.3716 - precision: 0.7222\n"
     ]
    }
   ],
   "source": [
    "test_loss, test_acc = model.evaluate(test_image, np.array(test_label))"
   ]
  },
  {
   "cell_type": "code",
   "execution_count": 30,
   "id": "47872d0e",
   "metadata": {
    "ExecuteTime": {
     "end_time": "2022-03-15T20:07:41.605162Z",
     "start_time": "2022-03-15T20:07:41.598863Z"
    }
   },
   "outputs": [
    {
     "name": "stdout",
     "output_type": "stream",
     "text": [
      "0.7222222089767456\n",
      "0.37162381410598755\n"
     ]
    }
   ],
   "source": [
    "print(test_acc)\n",
    "print(test_loss)"
   ]
  },
  {
   "cell_type": "code",
   "execution_count": 31,
   "id": "93a67896",
   "metadata": {
    "ExecuteTime": {
     "end_time": "2022-03-15T20:07:42.356863Z",
     "start_time": "2022-03-15T20:07:41.608794Z"
    }
   },
   "outputs": [
    {
     "name": "stdout",
     "output_type": "stream",
     "text": [
      "              precision    recall  f1-score   support\n",
      "\n",
      "           0       0.89      0.92      0.91      2632\n",
      "           1       0.72      0.65      0.68       825\n",
      "\n",
      "    accuracy                           0.86      3457\n",
      "   macro avg       0.81      0.78      0.79      3457\n",
      "weighted avg       0.85      0.86      0.85      3457\n",
      "\n",
      "[[2427  205]\n",
      " [ 292  533]]\n"
     ]
    }
   ],
   "source": [
    "from sklearn.metrics import confusion_matrix, classification_report\n",
    "\n",
    "pred = model.predict(test_image)\n",
    "y_pred = (pred > 0.5)\n",
    "print(classification_report(np.array(test_label), y_pred))\n",
    "print(confusion_matrix(np.array(test_label), y_pred))"
   ]
  },
  {
   "cell_type": "markdown",
   "id": "45927f97",
   "metadata": {},
   "source": [
    "### b. CNN using focal loss"
   ]
  },
  {
   "cell_type": "code",
   "execution_count": 32,
   "id": "ebdf7133",
   "metadata": {
    "ExecuteTime": {
     "end_time": "2022-03-15T20:07:42.508825Z",
     "start_time": "2022-03-15T20:07:42.359131Z"
    }
   },
   "outputs": [],
   "source": [
    "import tensorflow_addons as tfa\n",
    "\n",
    "def focal_loss_custom(alpha, gamma):\n",
    "    def binary_focal_loss(y_true, y_pred):\n",
    "        fl = tfa.losses.SigmoidFocalCrossEntropy(alpha=alpha, gamma=gamma)\n",
    "        y_true_K = tf.ones_like(y_true)\n",
    "        focal_loss = fl(y_true, y_pred)\n",
    "        return focal_loss\n",
    "    return binary_focal_loss"
   ]
  },
  {
   "cell_type": "code",
   "execution_count": 33,
   "id": "573c5059",
   "metadata": {
    "ExecuteTime": {
     "end_time": "2022-03-15T20:08:13.207860Z",
     "start_time": "2022-03-15T20:07:42.511808Z"
    }
   },
   "outputs": [
    {
     "name": "stdout",
     "output_type": "stream",
     "text": [
      "Epoch 1/10\n",
      "221/221 [==============================] - 4s 14ms/step - loss: 0.0190 - precision_1: 0.9685 - val_loss: 0.0388 - val_precision_1: 0.9278\n",
      "Epoch 2/10\n",
      "221/221 [==============================] - 3s 13ms/step - loss: 0.0168 - precision_1: 0.9735 - val_loss: 0.0365 - val_precision_1: 0.9701\n",
      "Epoch 3/10\n",
      "221/221 [==============================] - 3s 13ms/step - loss: 0.0153 - precision_1: 0.9773 - val_loss: 0.0372 - val_precision_1: 0.9711\n",
      "Epoch 4/10\n",
      "221/221 [==============================] - 3s 13ms/step - loss: 0.0137 - precision_1: 0.9777 - val_loss: 0.0351 - val_precision_1: 0.9602\n",
      "Epoch 5/10\n",
      "221/221 [==============================] - 3s 13ms/step - loss: 0.0127 - precision_1: 0.9824 - val_loss: 0.0437 - val_precision_1: 0.9065\n",
      "Epoch 6/10\n",
      "221/221 [==============================] - 3s 13ms/step - loss: 0.0117 - precision_1: 0.9837 - val_loss: 0.0484 - val_precision_1: 0.8866\n",
      "Epoch 7/10\n",
      "221/221 [==============================] - 3s 13ms/step - loss: 0.0148 - precision_1: 0.9745 - val_loss: 0.0489 - val_precision_1: 0.9529\n",
      "Epoch 8/10\n",
      "221/221 [==============================] - 3s 13ms/step - loss: 0.0105 - precision_1: 0.9808 - val_loss: 0.0661 - val_precision_1: 0.9328\n",
      "Epoch 9/10\n",
      "221/221 [==============================] - 3s 13ms/step - loss: 0.0105 - precision_1: 0.9783 - val_loss: 0.0739 - val_precision_1: 0.9620\n",
      "Epoch 10/10\n",
      "221/221 [==============================] - 3s 13ms/step - loss: 0.0089 - precision_1: 0.9870 - val_loss: 0.0640 - val_precision_1: 0.9351\n"
     ]
    },
    {
     "data": {
      "text/plain": [
       "<keras.callbacks.History at 0x7f19885197f0>"
      ]
     },
     "execution_count": 33,
     "metadata": {},
     "output_type": "execute_result"
    }
   ],
   "source": [
    "model_focal_loss = model\n",
    "model_focal_loss.compile(optimizer=\"rmsprop\",\n",
    "    loss=focal_loss_custom(alpha=0.2, gamma=2.0),\n",
    "    metrics=[tf.keras.metrics.Precision()])\n",
    "\n",
    "model_focal_loss.fit(train_image, np.array(train_label),\n",
    "          epochs=10, batch_size=64,\n",
    "          validation_data=(val_image, np.array(val_label)))"
   ]
  },
  {
   "cell_type": "code",
   "execution_count": 34,
   "id": "2ce56910",
   "metadata": {
    "ExecuteTime": {
     "end_time": "2022-03-15T20:08:14.173008Z",
     "start_time": "2022-03-15T20:08:13.211924Z"
    }
   },
   "outputs": [
    {
     "name": "stdout",
     "output_type": "stream",
     "text": [
      "109/109 [==============================] - 1s 6ms/step - loss: 0.1016 - precision_1: 0.6551\n"
     ]
    }
   ],
   "source": [
    "test_loss, test_acc = model_focal_loss.evaluate(test_image, np.array(test_label))"
   ]
  },
  {
   "cell_type": "code",
   "execution_count": 35,
   "id": "570053dd",
   "metadata": {
    "ExecuteTime": {
     "end_time": "2022-03-15T20:08:14.183385Z",
     "start_time": "2022-03-15T20:08:14.176824Z"
    }
   },
   "outputs": [
    {
     "name": "stdout",
     "output_type": "stream",
     "text": [
      "0.655089795589447\n",
      "0.10155697911977768\n"
     ]
    }
   ],
   "source": [
    "print(test_acc)\n",
    "print(test_loss)"
   ]
  },
  {
   "cell_type": "code",
   "execution_count": 36,
   "id": "03fd1aa0",
   "metadata": {
    "ExecuteTime": {
     "end_time": "2022-03-15T20:08:14.860762Z",
     "start_time": "2022-03-15T20:08:14.186248Z"
    }
   },
   "outputs": [
    {
     "name": "stdout",
     "output_type": "stream",
     "text": [
      "              precision    recall  f1-score   support\n",
      "\n",
      "           0       0.89      0.89      0.89      2632\n",
      "           1       0.66      0.66      0.66       825\n",
      "\n",
      "    accuracy                           0.84      3457\n",
      "   macro avg       0.77      0.78      0.78      3457\n",
      "weighted avg       0.84      0.84      0.84      3457\n",
      "\n",
      "[[2344  288]\n",
      " [ 278  547]]\n"
     ]
    }
   ],
   "source": [
    "from sklearn.metrics import confusion_matrix, classification_report\n",
    "\n",
    "pred = model_focal_loss.predict(test_image)\n",
    "y_pred = (pred > 0.5)\n",
    "print(classification_report(np.array(test_label), y_pred))\n",
    "print(confusion_matrix(np.array(test_label), y_pred))"
   ]
  },
  {
   "cell_type": "markdown",
   "id": "c5fe2dbc",
   "metadata": {},
   "source": [
    "### c. ResNet50\n"
   ]
  },
  {
   "cell_type": "code",
   "execution_count": 37,
   "id": "c7f382a0",
   "metadata": {
    "ExecuteTime": {
     "end_time": "2022-03-15T20:08:14.867029Z",
     "start_time": "2022-03-15T20:08:14.862472Z"
    }
   },
   "outputs": [],
   "source": [
    "from keras import backend as K\n",
    "import keras\n",
    "from keras.models import Sequential, Model, load_model\n",
    "from keras.callbacks import EarlyStopping, ModelCheckpoint\n",
    "from keras.layers import (Input, Add, Dense, Activation, ZeroPadding2D,\n",
    "                          BatchNormalization, Flatten, Conv2D,\n",
    "                          AveragePooling2D, MaxPooling2D, GlobalMaxPooling2D,\n",
    "                          MaxPool2D)\n",
    "from keras.preprocessing import image\n",
    "from keras.initializers import glorot_uniform"
   ]
  },
  {
   "cell_type": "code",
   "execution_count": 38,
   "id": "1f897a87",
   "metadata": {
    "ExecuteTime": {
     "end_time": "2022-03-15T20:08:14.903876Z",
     "start_time": "2022-03-15T20:08:14.868682Z"
    }
   },
   "outputs": [],
   "source": [
    "## https://machinelearningknowledge.ai/keras-implementation-of-resnet-50-architecture-from-scratch/\n",
    "\n",
    "def identity_block(X, f, filters, stage, block):\n",
    "   \n",
    "    conv_name_base = 'res' + str(stage) + block + '_branch'\n",
    "    bn_name_base = 'bn' + str(stage) + block + '_branch'\n",
    "    F1, F2, F3 = filters\n",
    "\n",
    "    X_shortcut = X\n",
    "   \n",
    "    X = Conv2D(filters=F1, kernel_size=(1, 1), strides=(1, 1), padding='valid',\n",
    "               name=conv_name_base + '2a',\n",
    "               kernel_initializer=glorot_uniform(seed=0))(X)\n",
    "    X = BatchNormalization(axis=3, name=bn_name_base + '2a')(X)\n",
    "    X = Activation('relu')(X)\n",
    "\n",
    "    X = Conv2D(filters=F2, kernel_size=(f, f), strides=(1, 1), padding='same',\n",
    "               name=conv_name_base + '2b',\n",
    "               kernel_initializer=glorot_uniform(seed=0))(X)\n",
    "    X = BatchNormalization(axis=3, name=bn_name_base + '2b')(X)\n",
    "    X = Activation('relu')(X)\n",
    "\n",
    "    X = Conv2D(filters=F3, kernel_size=(1, 1), strides=(1, 1), padding='valid',\n",
    "               name=conv_name_base + '2c',\n",
    "               kernel_initializer=glorot_uniform(seed=0))(X)\n",
    "    X = BatchNormalization(axis=3, name=bn_name_base + '2c')(X)\n",
    "\n",
    "    X = Add()([X, X_shortcut])# SKIP Connection\n",
    "    X = Activation('relu')(X)\n",
    "\n",
    "    return X\n",
    "\n",
    "def convolutional_block(X, f, filters, stage, block, s=2):\n",
    "   \n",
    "    conv_name_base = 'res' + str(stage) + block + '_branch'\n",
    "    bn_name_base = 'bn' + str(stage) + block + '_branch'\n",
    "\n",
    "    F1, F2, F3 = filters\n",
    "\n",
    "    X_shortcut = X\n",
    "\n",
    "    X = Conv2D(filters=F1, kernel_size=(1, 1), strides=(s, s), padding='valid',\n",
    "               name=conv_name_base + '2a',\n",
    "               kernel_initializer=glorot_uniform(seed=0))(X)\n",
    "    X = BatchNormalization(axis=3, name=bn_name_base + '2a')(X)\n",
    "    X = Activation('relu')(X)\n",
    "\n",
    "    X = Conv2D(filters=F2, kernel_size=(f, f), strides=(1, 1), padding='same',\n",
    "               name=conv_name_base + '2b',\n",
    "               kernel_initializer=glorot_uniform(seed=0))(X)\n",
    "    X = BatchNormalization(axis=3, name=bn_name_base + '2b')(X)\n",
    "    X = Activation('relu')(X)\n",
    "\n",
    "    X = Conv2D(filters=F3, kernel_size=(1, 1), strides=(1, 1), padding='valid',\n",
    "               name=conv_name_base + '2c',\n",
    "               kernel_initializer=glorot_uniform(seed=0))(X)\n",
    "    X = BatchNormalization(axis=3, name=bn_name_base + '2c')(X)\n",
    "\n",
    "    X_shortcut = Conv2D(filters=F3, kernel_size=(1, 1), strides=(s, s),\n",
    "                        padding='valid', name=conv_name_base + '1',\n",
    "                        kernel_initializer=glorot_uniform(seed=0))(X_shortcut)\n",
    "    X_shortcut = BatchNormalization(axis=3, name=bn_name_base + '1')(X_shortcut)\n",
    "\n",
    "    X = Add()([X, X_shortcut])\n",
    "    X = Activation('relu')(X)\n",
    "\n",
    "    return X\n",
    "\n",
    "def ResNet50(input_shape=(224, 224, 3)):\n",
    "\n",
    "    X_input = Input(input_shape)\n",
    "\n",
    "    X = ZeroPadding2D((3, 3))(X_input)\n",
    "\n",
    "    X = Conv2D(64, (7, 7), strides=(2, 2), name='conv1',\n",
    "               kernel_initializer=glorot_uniform(seed=0))(X)\n",
    "    X = BatchNormalization(axis=3, name='bn_conv1')(X)\n",
    "    X = Activation('relu')(X)\n",
    "    X = MaxPooling2D((3, 3), strides=(2, 2))(X)\n",
    "\n",
    "    X = convolutional_block(X, f=3, filters=[64, 64, 256], stage=2, block='a', s=1)\n",
    "    X = identity_block(X, 3, [64, 64, 256], stage=2, block='b')\n",
    "    X = identity_block(X, 3, [64, 64, 256], stage=2, block='c')\n",
    "\n",
    "\n",
    "    X = convolutional_block(X, f=3, filters=[128, 128, 512], stage=3, block='a', s=2)\n",
    "    X = identity_block(X, 3, [128, 128, 512], stage=3, block='b')\n",
    "    X = identity_block(X, 3, [128, 128, 512], stage=3, block='c')\n",
    "    X = identity_block(X, 3, [128, 128, 512], stage=3, block='d')\n",
    "\n",
    "    X = convolutional_block(X, f=3, filters=[256, 256, 1024], stage=4, block='a', s=2)\n",
    "    X = identity_block(X, 3, [256, 256, 1024], stage=4, block='b')\n",
    "    X = identity_block(X, 3, [256, 256, 1024], stage=4, block='c')\n",
    "    X = identity_block(X, 3, [256, 256, 1024], stage=4, block='d')\n",
    "    X = identity_block(X, 3, [256, 256, 1024], stage=4, block='e')\n",
    "    X = identity_block(X, 3, [256, 256, 1024], stage=4, block='f')\n",
    "\n",
    "    X = X = convolutional_block(X, f=3, filters=[512, 512, 2048], stage=5, block='a', s=2)\n",
    "    X = identity_block(X, 3, [512, 512, 2048], stage=5, block='b')\n",
    "    X = identity_block(X, 3, [512, 512, 2048], stage=5, block='c')\n",
    "\n",
    "    X = AveragePooling2D(pool_size=(2, 2), padding='same')(X)\n",
    "    \n",
    "    model = Model(inputs=X_input, outputs=X, name='ResNet50')\n",
    "\n",
    "    return model"
   ]
  },
  {
   "cell_type": "code",
   "execution_count": 39,
   "id": "68a6a181",
   "metadata": {
    "ExecuteTime": {
     "end_time": "2022-03-15T20:08:16.040340Z",
     "start_time": "2022-03-15T20:08:14.906089Z"
    }
   },
   "outputs": [],
   "source": [
    "base_model = ResNet50(input_shape=(64, 96, 1))"
   ]
  },
  {
   "cell_type": "code",
   "execution_count": 40,
   "id": "a28eebcf",
   "metadata": {
    "ExecuteTime": {
     "end_time": "2022-03-15T20:08:16.068147Z",
     "start_time": "2022-03-15T20:08:16.042725Z"
    }
   },
   "outputs": [],
   "source": [
    "headModel_res50 = base_model.output\n",
    "headModel_res50 = Flatten()(headModel_res50)\n",
    "headModel_res50 = Dense(256, activation='relu', name='fc1',\n",
    "                  kernel_initializer=glorot_uniform(seed=0))(headModel_res50)\n",
    "headModel_res50 = Dense(128, activation='relu', name='fc2',\n",
    "                  kernel_initializer=glorot_uniform(seed=0))(headModel_res50)\n",
    "headModel_res50 = Dense(1,activation='sigmoid', name='fc3',\n",
    "                  kernel_initializer=glorot_uniform(seed=0))(headModel_res50)"
   ]
  },
  {
   "cell_type": "code",
   "execution_count": 41,
   "id": "c7d446d0",
   "metadata": {
    "ExecuteTime": {
     "end_time": "2022-03-15T20:08:16.167722Z",
     "start_time": "2022-03-15T20:08:16.070739Z"
    }
   },
   "outputs": [
    {
     "name": "stdout",
     "output_type": "stream",
     "text": [
      "Model: \"model_1\"\n",
      "__________________________________________________________________________________________________\n",
      "Layer (type)                    Output Shape         Param #     Connected to                     \n",
      "==================================================================================================\n",
      "input_2 (InputLayer)            [(None, 64, 96, 1)]  0                                            \n",
      "__________________________________________________________________________________________________\n",
      "zero_padding2d (ZeroPadding2D)  (None, 70, 102, 1)   0           input_2[0][0]                    \n",
      "__________________________________________________________________________________________________\n",
      "conv1 (Conv2D)                  (None, 32, 48, 64)   3200        zero_padding2d[0][0]             \n",
      "__________________________________________________________________________________________________\n",
      "bn_conv1 (BatchNormalization)   (None, 32, 48, 64)   256         conv1[0][0]                      \n",
      "__________________________________________________________________________________________________\n",
      "activation (Activation)         (None, 32, 48, 64)   0           bn_conv1[0][0]                   \n",
      "__________________________________________________________________________________________________\n",
      "max_pooling2d_2 (MaxPooling2D)  (None, 15, 23, 64)   0           activation[0][0]                 \n",
      "__________________________________________________________________________________________________\n",
      "res2a_branch2a (Conv2D)         (None, 15, 23, 64)   4160        max_pooling2d_2[0][0]            \n",
      "__________________________________________________________________________________________________\n",
      "bn2a_branch2a (BatchNormalizati (None, 15, 23, 64)   256         res2a_branch2a[0][0]             \n",
      "__________________________________________________________________________________________________\n",
      "activation_1 (Activation)       (None, 15, 23, 64)   0           bn2a_branch2a[0][0]              \n",
      "__________________________________________________________________________________________________\n",
      "res2a_branch2b (Conv2D)         (None, 15, 23, 64)   36928       activation_1[0][0]               \n",
      "__________________________________________________________________________________________________\n",
      "bn2a_branch2b (BatchNormalizati (None, 15, 23, 64)   256         res2a_branch2b[0][0]             \n",
      "__________________________________________________________________________________________________\n",
      "activation_2 (Activation)       (None, 15, 23, 64)   0           bn2a_branch2b[0][0]              \n",
      "__________________________________________________________________________________________________\n",
      "res2a_branch2c (Conv2D)         (None, 15, 23, 256)  16640       activation_2[0][0]               \n",
      "__________________________________________________________________________________________________\n",
      "res2a_branch1 (Conv2D)          (None, 15, 23, 256)  16640       max_pooling2d_2[0][0]            \n",
      "__________________________________________________________________________________________________\n",
      "bn2a_branch2c (BatchNormalizati (None, 15, 23, 256)  1024        res2a_branch2c[0][0]             \n",
      "__________________________________________________________________________________________________\n",
      "bn2a_branch1 (BatchNormalizatio (None, 15, 23, 256)  1024        res2a_branch1[0][0]              \n",
      "__________________________________________________________________________________________________\n",
      "add (Add)                       (None, 15, 23, 256)  0           bn2a_branch2c[0][0]              \n",
      "                                                                 bn2a_branch1[0][0]               \n",
      "__________________________________________________________________________________________________\n",
      "activation_3 (Activation)       (None, 15, 23, 256)  0           add[0][0]                        \n",
      "__________________________________________________________________________________________________\n",
      "res2b_branch2a (Conv2D)         (None, 15, 23, 64)   16448       activation_3[0][0]               \n",
      "__________________________________________________________________________________________________\n",
      "bn2b_branch2a (BatchNormalizati (None, 15, 23, 64)   256         res2b_branch2a[0][0]             \n",
      "__________________________________________________________________________________________________\n",
      "activation_4 (Activation)       (None, 15, 23, 64)   0           bn2b_branch2a[0][0]              \n",
      "__________________________________________________________________________________________________\n",
      "res2b_branch2b (Conv2D)         (None, 15, 23, 64)   36928       activation_4[0][0]               \n",
      "__________________________________________________________________________________________________\n",
      "bn2b_branch2b (BatchNormalizati (None, 15, 23, 64)   256         res2b_branch2b[0][0]             \n",
      "__________________________________________________________________________________________________\n",
      "activation_5 (Activation)       (None, 15, 23, 64)   0           bn2b_branch2b[0][0]              \n",
      "__________________________________________________________________________________________________\n",
      "res2b_branch2c (Conv2D)         (None, 15, 23, 256)  16640       activation_5[0][0]               \n",
      "__________________________________________________________________________________________________\n",
      "bn2b_branch2c (BatchNormalizati (None, 15, 23, 256)  1024        res2b_branch2c[0][0]             \n",
      "__________________________________________________________________________________________________\n",
      "add_1 (Add)                     (None, 15, 23, 256)  0           bn2b_branch2c[0][0]              \n",
      "                                                                 activation_3[0][0]               \n",
      "__________________________________________________________________________________________________\n",
      "activation_6 (Activation)       (None, 15, 23, 256)  0           add_1[0][0]                      \n",
      "__________________________________________________________________________________________________\n",
      "res2c_branch2a (Conv2D)         (None, 15, 23, 64)   16448       activation_6[0][0]               \n",
      "__________________________________________________________________________________________________\n",
      "bn2c_branch2a (BatchNormalizati (None, 15, 23, 64)   256         res2c_branch2a[0][0]             \n",
      "__________________________________________________________________________________________________\n",
      "activation_7 (Activation)       (None, 15, 23, 64)   0           bn2c_branch2a[0][0]              \n",
      "__________________________________________________________________________________________________\n",
      "res2c_branch2b (Conv2D)         (None, 15, 23, 64)   36928       activation_7[0][0]               \n",
      "__________________________________________________________________________________________________\n",
      "bn2c_branch2b (BatchNormalizati (None, 15, 23, 64)   256         res2c_branch2b[0][0]             \n",
      "__________________________________________________________________________________________________\n",
      "activation_8 (Activation)       (None, 15, 23, 64)   0           bn2c_branch2b[0][0]              \n",
      "__________________________________________________________________________________________________\n",
      "res2c_branch2c (Conv2D)         (None, 15, 23, 256)  16640       activation_8[0][0]               \n",
      "__________________________________________________________________________________________________\n",
      "bn2c_branch2c (BatchNormalizati (None, 15, 23, 256)  1024        res2c_branch2c[0][0]             \n",
      "__________________________________________________________________________________________________\n",
      "add_2 (Add)                     (None, 15, 23, 256)  0           bn2c_branch2c[0][0]              \n",
      "                                                                 activation_6[0][0]               \n",
      "__________________________________________________________________________________________________\n",
      "activation_9 (Activation)       (None, 15, 23, 256)  0           add_2[0][0]                      \n",
      "__________________________________________________________________________________________________\n",
      "res3a_branch2a (Conv2D)         (None, 8, 12, 128)   32896       activation_9[0][0]               \n",
      "__________________________________________________________________________________________________\n",
      "bn3a_branch2a (BatchNormalizati (None, 8, 12, 128)   512         res3a_branch2a[0][0]             \n",
      "__________________________________________________________________________________________________\n",
      "activation_10 (Activation)      (None, 8, 12, 128)   0           bn3a_branch2a[0][0]              \n",
      "__________________________________________________________________________________________________\n",
      "res3a_branch2b (Conv2D)         (None, 8, 12, 128)   147584      activation_10[0][0]              \n",
      "__________________________________________________________________________________________________\n",
      "bn3a_branch2b (BatchNormalizati (None, 8, 12, 128)   512         res3a_branch2b[0][0]             \n",
      "__________________________________________________________________________________________________\n",
      "activation_11 (Activation)      (None, 8, 12, 128)   0           bn3a_branch2b[0][0]              \n",
      "__________________________________________________________________________________________________\n",
      "res3a_branch2c (Conv2D)         (None, 8, 12, 512)   66048       activation_11[0][0]              \n",
      "__________________________________________________________________________________________________\n",
      "res3a_branch1 (Conv2D)          (None, 8, 12, 512)   131584      activation_9[0][0]               \n",
      "__________________________________________________________________________________________________\n",
      "bn3a_branch2c (BatchNormalizati (None, 8, 12, 512)   2048        res3a_branch2c[0][0]             \n",
      "__________________________________________________________________________________________________\n",
      "bn3a_branch1 (BatchNormalizatio (None, 8, 12, 512)   2048        res3a_branch1[0][0]              \n",
      "__________________________________________________________________________________________________\n",
      "add_3 (Add)                     (None, 8, 12, 512)   0           bn3a_branch2c[0][0]              \n",
      "                                                                 bn3a_branch1[0][0]               \n",
      "__________________________________________________________________________________________________\n",
      "activation_12 (Activation)      (None, 8, 12, 512)   0           add_3[0][0]                      \n",
      "__________________________________________________________________________________________________\n",
      "res3b_branch2a (Conv2D)         (None, 8, 12, 128)   65664       activation_12[0][0]              \n",
      "__________________________________________________________________________________________________\n",
      "bn3b_branch2a (BatchNormalizati (None, 8, 12, 128)   512         res3b_branch2a[0][0]             \n",
      "__________________________________________________________________________________________________\n",
      "activation_13 (Activation)      (None, 8, 12, 128)   0           bn3b_branch2a[0][0]              \n",
      "__________________________________________________________________________________________________\n",
      "res3b_branch2b (Conv2D)         (None, 8, 12, 128)   147584      activation_13[0][0]              \n",
      "__________________________________________________________________________________________________\n",
      "bn3b_branch2b (BatchNormalizati (None, 8, 12, 128)   512         res3b_branch2b[0][0]             \n",
      "__________________________________________________________________________________________________\n",
      "activation_14 (Activation)      (None, 8, 12, 128)   0           bn3b_branch2b[0][0]              \n",
      "__________________________________________________________________________________________________\n",
      "res3b_branch2c (Conv2D)         (None, 8, 12, 512)   66048       activation_14[0][0]              \n",
      "__________________________________________________________________________________________________\n",
      "bn3b_branch2c (BatchNormalizati (None, 8, 12, 512)   2048        res3b_branch2c[0][0]             \n",
      "__________________________________________________________________________________________________\n",
      "add_4 (Add)                     (None, 8, 12, 512)   0           bn3b_branch2c[0][0]              \n",
      "                                                                 activation_12[0][0]              \n",
      "__________________________________________________________________________________________________\n",
      "activation_15 (Activation)      (None, 8, 12, 512)   0           add_4[0][0]                      \n",
      "__________________________________________________________________________________________________\n",
      "res3c_branch2a (Conv2D)         (None, 8, 12, 128)   65664       activation_15[0][0]              \n",
      "__________________________________________________________________________________________________\n",
      "bn3c_branch2a (BatchNormalizati (None, 8, 12, 128)   512         res3c_branch2a[0][0]             \n",
      "__________________________________________________________________________________________________\n",
      "activation_16 (Activation)      (None, 8, 12, 128)   0           bn3c_branch2a[0][0]              \n",
      "__________________________________________________________________________________________________\n",
      "res3c_branch2b (Conv2D)         (None, 8, 12, 128)   147584      activation_16[0][0]              \n",
      "__________________________________________________________________________________________________\n",
      "bn3c_branch2b (BatchNormalizati (None, 8, 12, 128)   512         res3c_branch2b[0][0]             \n",
      "__________________________________________________________________________________________________\n",
      "activation_17 (Activation)      (None, 8, 12, 128)   0           bn3c_branch2b[0][0]              \n",
      "__________________________________________________________________________________________________\n",
      "res3c_branch2c (Conv2D)         (None, 8, 12, 512)   66048       activation_17[0][0]              \n",
      "__________________________________________________________________________________________________\n",
      "bn3c_branch2c (BatchNormalizati (None, 8, 12, 512)   2048        res3c_branch2c[0][0]             \n",
      "__________________________________________________________________________________________________\n",
      "add_5 (Add)                     (None, 8, 12, 512)   0           bn3c_branch2c[0][0]              \n",
      "                                                                 activation_15[0][0]              \n",
      "__________________________________________________________________________________________________\n",
      "activation_18 (Activation)      (None, 8, 12, 512)   0           add_5[0][0]                      \n",
      "__________________________________________________________________________________________________\n",
      "res3d_branch2a (Conv2D)         (None, 8, 12, 128)   65664       activation_18[0][0]              \n",
      "__________________________________________________________________________________________________\n",
      "bn3d_branch2a (BatchNormalizati (None, 8, 12, 128)   512         res3d_branch2a[0][0]             \n",
      "__________________________________________________________________________________________________\n",
      "activation_19 (Activation)      (None, 8, 12, 128)   0           bn3d_branch2a[0][0]              \n",
      "__________________________________________________________________________________________________\n",
      "res3d_branch2b (Conv2D)         (None, 8, 12, 128)   147584      activation_19[0][0]              \n",
      "__________________________________________________________________________________________________\n",
      "bn3d_branch2b (BatchNormalizati (None, 8, 12, 128)   512         res3d_branch2b[0][0]             \n",
      "__________________________________________________________________________________________________\n",
      "activation_20 (Activation)      (None, 8, 12, 128)   0           bn3d_branch2b[0][0]              \n",
      "__________________________________________________________________________________________________\n",
      "res3d_branch2c (Conv2D)         (None, 8, 12, 512)   66048       activation_20[0][0]              \n",
      "__________________________________________________________________________________________________\n",
      "bn3d_branch2c (BatchNormalizati (None, 8, 12, 512)   2048        res3d_branch2c[0][0]             \n",
      "__________________________________________________________________________________________________\n",
      "add_6 (Add)                     (None, 8, 12, 512)   0           bn3d_branch2c[0][0]              \n",
      "                                                                 activation_18[0][0]              \n",
      "__________________________________________________________________________________________________\n",
      "activation_21 (Activation)      (None, 8, 12, 512)   0           add_6[0][0]                      \n",
      "__________________________________________________________________________________________________\n",
      "res4a_branch2a (Conv2D)         (None, 4, 6, 256)    131328      activation_21[0][0]              \n",
      "__________________________________________________________________________________________________\n",
      "bn4a_branch2a (BatchNormalizati (None, 4, 6, 256)    1024        res4a_branch2a[0][0]             \n",
      "__________________________________________________________________________________________________\n",
      "activation_22 (Activation)      (None, 4, 6, 256)    0           bn4a_branch2a[0][0]              \n",
      "__________________________________________________________________________________________________\n",
      "res4a_branch2b (Conv2D)         (None, 4, 6, 256)    590080      activation_22[0][0]              \n",
      "__________________________________________________________________________________________________\n",
      "bn4a_branch2b (BatchNormalizati (None, 4, 6, 256)    1024        res4a_branch2b[0][0]             \n",
      "__________________________________________________________________________________________________\n",
      "activation_23 (Activation)      (None, 4, 6, 256)    0           bn4a_branch2b[0][0]              \n",
      "__________________________________________________________________________________________________\n",
      "res4a_branch2c (Conv2D)         (None, 4, 6, 1024)   263168      activation_23[0][0]              \n",
      "__________________________________________________________________________________________________\n",
      "res4a_branch1 (Conv2D)          (None, 4, 6, 1024)   525312      activation_21[0][0]              \n",
      "__________________________________________________________________________________________________\n",
      "bn4a_branch2c (BatchNormalizati (None, 4, 6, 1024)   4096        res4a_branch2c[0][0]             \n",
      "__________________________________________________________________________________________________\n",
      "bn4a_branch1 (BatchNormalizatio (None, 4, 6, 1024)   4096        res4a_branch1[0][0]              \n",
      "__________________________________________________________________________________________________\n",
      "add_7 (Add)                     (None, 4, 6, 1024)   0           bn4a_branch2c[0][0]              \n",
      "                                                                 bn4a_branch1[0][0]               \n",
      "__________________________________________________________________________________________________\n",
      "activation_24 (Activation)      (None, 4, 6, 1024)   0           add_7[0][0]                      \n",
      "__________________________________________________________________________________________________\n",
      "res4b_branch2a (Conv2D)         (None, 4, 6, 256)    262400      activation_24[0][0]              \n",
      "__________________________________________________________________________________________________\n",
      "bn4b_branch2a (BatchNormalizati (None, 4, 6, 256)    1024        res4b_branch2a[0][0]             \n",
      "__________________________________________________________________________________________________\n",
      "activation_25 (Activation)      (None, 4, 6, 256)    0           bn4b_branch2a[0][0]              \n",
      "__________________________________________________________________________________________________\n",
      "res4b_branch2b (Conv2D)         (None, 4, 6, 256)    590080      activation_25[0][0]              \n",
      "__________________________________________________________________________________________________\n",
      "bn4b_branch2b (BatchNormalizati (None, 4, 6, 256)    1024        res4b_branch2b[0][0]             \n",
      "__________________________________________________________________________________________________\n",
      "activation_26 (Activation)      (None, 4, 6, 256)    0           bn4b_branch2b[0][0]              \n",
      "__________________________________________________________________________________________________\n",
      "res4b_branch2c (Conv2D)         (None, 4, 6, 1024)   263168      activation_26[0][0]              \n",
      "__________________________________________________________________________________________________\n",
      "bn4b_branch2c (BatchNormalizati (None, 4, 6, 1024)   4096        res4b_branch2c[0][0]             \n",
      "__________________________________________________________________________________________________\n",
      "add_8 (Add)                     (None, 4, 6, 1024)   0           bn4b_branch2c[0][0]              \n",
      "                                                                 activation_24[0][0]              \n",
      "__________________________________________________________________________________________________\n",
      "activation_27 (Activation)      (None, 4, 6, 1024)   0           add_8[0][0]                      \n",
      "__________________________________________________________________________________________________\n",
      "res4c_branch2a (Conv2D)         (None, 4, 6, 256)    262400      activation_27[0][0]              \n",
      "__________________________________________________________________________________________________\n",
      "bn4c_branch2a (BatchNormalizati (None, 4, 6, 256)    1024        res4c_branch2a[0][0]             \n",
      "__________________________________________________________________________________________________\n",
      "activation_28 (Activation)      (None, 4, 6, 256)    0           bn4c_branch2a[0][0]              \n",
      "__________________________________________________________________________________________________\n",
      "res4c_branch2b (Conv2D)         (None, 4, 6, 256)    590080      activation_28[0][0]              \n",
      "__________________________________________________________________________________________________\n",
      "bn4c_branch2b (BatchNormalizati (None, 4, 6, 256)    1024        res4c_branch2b[0][0]             \n",
      "__________________________________________________________________________________________________\n",
      "activation_29 (Activation)      (None, 4, 6, 256)    0           bn4c_branch2b[0][0]              \n",
      "__________________________________________________________________________________________________\n",
      "res4c_branch2c (Conv2D)         (None, 4, 6, 1024)   263168      activation_29[0][0]              \n",
      "__________________________________________________________________________________________________\n",
      "bn4c_branch2c (BatchNormalizati (None, 4, 6, 1024)   4096        res4c_branch2c[0][0]             \n",
      "__________________________________________________________________________________________________\n",
      "add_9 (Add)                     (None, 4, 6, 1024)   0           bn4c_branch2c[0][0]              \n",
      "                                                                 activation_27[0][0]              \n",
      "__________________________________________________________________________________________________\n",
      "activation_30 (Activation)      (None, 4, 6, 1024)   0           add_9[0][0]                      \n",
      "__________________________________________________________________________________________________\n",
      "res4d_branch2a (Conv2D)         (None, 4, 6, 256)    262400      activation_30[0][0]              \n",
      "__________________________________________________________________________________________________\n",
      "bn4d_branch2a (BatchNormalizati (None, 4, 6, 256)    1024        res4d_branch2a[0][0]             \n",
      "__________________________________________________________________________________________________\n",
      "activation_31 (Activation)      (None, 4, 6, 256)    0           bn4d_branch2a[0][0]              \n",
      "__________________________________________________________________________________________________\n",
      "res4d_branch2b (Conv2D)         (None, 4, 6, 256)    590080      activation_31[0][0]              \n",
      "__________________________________________________________________________________________________\n",
      "bn4d_branch2b (BatchNormalizati (None, 4, 6, 256)    1024        res4d_branch2b[0][0]             \n",
      "__________________________________________________________________________________________________\n",
      "activation_32 (Activation)      (None, 4, 6, 256)    0           bn4d_branch2b[0][0]              \n",
      "__________________________________________________________________________________________________\n",
      "res4d_branch2c (Conv2D)         (None, 4, 6, 1024)   263168      activation_32[0][0]              \n",
      "__________________________________________________________________________________________________\n",
      "bn4d_branch2c (BatchNormalizati (None, 4, 6, 1024)   4096        res4d_branch2c[0][0]             \n",
      "__________________________________________________________________________________________________\n",
      "add_10 (Add)                    (None, 4, 6, 1024)   0           bn4d_branch2c[0][0]              \n",
      "                                                                 activation_30[0][0]              \n",
      "__________________________________________________________________________________________________\n",
      "activation_33 (Activation)      (None, 4, 6, 1024)   0           add_10[0][0]                     \n",
      "__________________________________________________________________________________________________\n",
      "res4e_branch2a (Conv2D)         (None, 4, 6, 256)    262400      activation_33[0][0]              \n",
      "__________________________________________________________________________________________________\n",
      "bn4e_branch2a (BatchNormalizati (None, 4, 6, 256)    1024        res4e_branch2a[0][0]             \n",
      "__________________________________________________________________________________________________\n",
      "activation_34 (Activation)      (None, 4, 6, 256)    0           bn4e_branch2a[0][0]              \n",
      "__________________________________________________________________________________________________\n",
      "res4e_branch2b (Conv2D)         (None, 4, 6, 256)    590080      activation_34[0][0]              \n",
      "__________________________________________________________________________________________________\n",
      "bn4e_branch2b (BatchNormalizati (None, 4, 6, 256)    1024        res4e_branch2b[0][0]             \n",
      "__________________________________________________________________________________________________\n",
      "activation_35 (Activation)      (None, 4, 6, 256)    0           bn4e_branch2b[0][0]              \n",
      "__________________________________________________________________________________________________\n",
      "res4e_branch2c (Conv2D)         (None, 4, 6, 1024)   263168      activation_35[0][0]              \n",
      "__________________________________________________________________________________________________\n",
      "bn4e_branch2c (BatchNormalizati (None, 4, 6, 1024)   4096        res4e_branch2c[0][0]             \n",
      "__________________________________________________________________________________________________\n",
      "add_11 (Add)                    (None, 4, 6, 1024)   0           bn4e_branch2c[0][0]              \n",
      "                                                                 activation_33[0][0]              \n",
      "__________________________________________________________________________________________________\n",
      "activation_36 (Activation)      (None, 4, 6, 1024)   0           add_11[0][0]                     \n",
      "__________________________________________________________________________________________________\n",
      "res4f_branch2a (Conv2D)         (None, 4, 6, 256)    262400      activation_36[0][0]              \n",
      "__________________________________________________________________________________________________\n",
      "bn4f_branch2a (BatchNormalizati (None, 4, 6, 256)    1024        res4f_branch2a[0][0]             \n",
      "__________________________________________________________________________________________________\n",
      "activation_37 (Activation)      (None, 4, 6, 256)    0           bn4f_branch2a[0][0]              \n",
      "__________________________________________________________________________________________________\n",
      "res4f_branch2b (Conv2D)         (None, 4, 6, 256)    590080      activation_37[0][0]              \n",
      "__________________________________________________________________________________________________\n",
      "bn4f_branch2b (BatchNormalizati (None, 4, 6, 256)    1024        res4f_branch2b[0][0]             \n",
      "__________________________________________________________________________________________________\n",
      "activation_38 (Activation)      (None, 4, 6, 256)    0           bn4f_branch2b[0][0]              \n",
      "__________________________________________________________________________________________________\n",
      "res4f_branch2c (Conv2D)         (None, 4, 6, 1024)   263168      activation_38[0][0]              \n",
      "__________________________________________________________________________________________________\n",
      "bn4f_branch2c (BatchNormalizati (None, 4, 6, 1024)   4096        res4f_branch2c[0][0]             \n",
      "__________________________________________________________________________________________________\n",
      "add_12 (Add)                    (None, 4, 6, 1024)   0           bn4f_branch2c[0][0]              \n",
      "                                                                 activation_36[0][0]              \n",
      "__________________________________________________________________________________________________\n",
      "activation_39 (Activation)      (None, 4, 6, 1024)   0           add_12[0][0]                     \n",
      "__________________________________________________________________________________________________\n",
      "res5a_branch2a (Conv2D)         (None, 2, 3, 512)    524800      activation_39[0][0]              \n",
      "__________________________________________________________________________________________________\n",
      "bn5a_branch2a (BatchNormalizati (None, 2, 3, 512)    2048        res5a_branch2a[0][0]             \n",
      "__________________________________________________________________________________________________\n",
      "activation_40 (Activation)      (None, 2, 3, 512)    0           bn5a_branch2a[0][0]              \n",
      "__________________________________________________________________________________________________\n",
      "res5a_branch2b (Conv2D)         (None, 2, 3, 512)    2359808     activation_40[0][0]              \n",
      "__________________________________________________________________________________________________\n",
      "bn5a_branch2b (BatchNormalizati (None, 2, 3, 512)    2048        res5a_branch2b[0][0]             \n",
      "__________________________________________________________________________________________________\n",
      "activation_41 (Activation)      (None, 2, 3, 512)    0           bn5a_branch2b[0][0]              \n",
      "__________________________________________________________________________________________________\n",
      "res5a_branch2c (Conv2D)         (None, 2, 3, 2048)   1050624     activation_41[0][0]              \n",
      "__________________________________________________________________________________________________\n",
      "res5a_branch1 (Conv2D)          (None, 2, 3, 2048)   2099200     activation_39[0][0]              \n",
      "__________________________________________________________________________________________________\n",
      "bn5a_branch2c (BatchNormalizati (None, 2, 3, 2048)   8192        res5a_branch2c[0][0]             \n",
      "__________________________________________________________________________________________________\n",
      "bn5a_branch1 (BatchNormalizatio (None, 2, 3, 2048)   8192        res5a_branch1[0][0]              \n",
      "__________________________________________________________________________________________________\n",
      "add_13 (Add)                    (None, 2, 3, 2048)   0           bn5a_branch2c[0][0]              \n",
      "                                                                 bn5a_branch1[0][0]               \n",
      "__________________________________________________________________________________________________\n",
      "activation_42 (Activation)      (None, 2, 3, 2048)   0           add_13[0][0]                     \n",
      "__________________________________________________________________________________________________\n",
      "res5b_branch2a (Conv2D)         (None, 2, 3, 512)    1049088     activation_42[0][0]              \n",
      "__________________________________________________________________________________________________\n",
      "bn5b_branch2a (BatchNormalizati (None, 2, 3, 512)    2048        res5b_branch2a[0][0]             \n",
      "__________________________________________________________________________________________________\n",
      "activation_43 (Activation)      (None, 2, 3, 512)    0           bn5b_branch2a[0][0]              \n",
      "__________________________________________________________________________________________________\n",
      "res5b_branch2b (Conv2D)         (None, 2, 3, 512)    2359808     activation_43[0][0]              \n",
      "__________________________________________________________________________________________________\n",
      "bn5b_branch2b (BatchNormalizati (None, 2, 3, 512)    2048        res5b_branch2b[0][0]             \n",
      "__________________________________________________________________________________________________\n",
      "activation_44 (Activation)      (None, 2, 3, 512)    0           bn5b_branch2b[0][0]              \n",
      "__________________________________________________________________________________________________\n",
      "res5b_branch2c (Conv2D)         (None, 2, 3, 2048)   1050624     activation_44[0][0]              \n",
      "__________________________________________________________________________________________________\n",
      "bn5b_branch2c (BatchNormalizati (None, 2, 3, 2048)   8192        res5b_branch2c[0][0]             \n",
      "__________________________________________________________________________________________________\n",
      "add_14 (Add)                    (None, 2, 3, 2048)   0           bn5b_branch2c[0][0]              \n",
      "                                                                 activation_42[0][0]              \n",
      "__________________________________________________________________________________________________\n",
      "activation_45 (Activation)      (None, 2, 3, 2048)   0           add_14[0][0]                     \n",
      "__________________________________________________________________________________________________\n",
      "res5c_branch2a (Conv2D)         (None, 2, 3, 512)    1049088     activation_45[0][0]              \n",
      "__________________________________________________________________________________________________\n",
      "bn5c_branch2a (BatchNormalizati (None, 2, 3, 512)    2048        res5c_branch2a[0][0]             \n",
      "__________________________________________________________________________________________________\n",
      "activation_46 (Activation)      (None, 2, 3, 512)    0           bn5c_branch2a[0][0]              \n",
      "__________________________________________________________________________________________________\n",
      "res5c_branch2b (Conv2D)         (None, 2, 3, 512)    2359808     activation_46[0][0]              \n",
      "__________________________________________________________________________________________________\n",
      "bn5c_branch2b (BatchNormalizati (None, 2, 3, 512)    2048        res5c_branch2b[0][0]             \n",
      "__________________________________________________________________________________________________\n",
      "activation_47 (Activation)      (None, 2, 3, 512)    0           bn5c_branch2b[0][0]              \n",
      "__________________________________________________________________________________________________\n",
      "res5c_branch2c (Conv2D)         (None, 2, 3, 2048)   1050624     activation_47[0][0]              \n",
      "__________________________________________________________________________________________________\n",
      "bn5c_branch2c (BatchNormalizati (None, 2, 3, 2048)   8192        res5c_branch2c[0][0]             \n",
      "__________________________________________________________________________________________________\n",
      "add_15 (Add)                    (None, 2, 3, 2048)   0           bn5c_branch2c[0][0]              \n",
      "                                                                 activation_45[0][0]              \n",
      "__________________________________________________________________________________________________\n",
      "activation_48 (Activation)      (None, 2, 3, 2048)   0           add_15[0][0]                     \n",
      "__________________________________________________________________________________________________\n",
      "average_pooling2d (AveragePooli (None, 1, 2, 2048)   0           activation_48[0][0]              \n",
      "__________________________________________________________________________________________________\n",
      "flatten_1 (Flatten)             (None, 4096)         0           average_pooling2d[0][0]          \n",
      "__________________________________________________________________________________________________\n",
      "fc1 (Dense)                     (None, 256)          1048832     flatten_1[0][0]                  \n",
      "__________________________________________________________________________________________________\n",
      "fc2 (Dense)                     (None, 128)          32896       fc1[0][0]                        \n",
      "__________________________________________________________________________________________________\n",
      "fc3 (Dense)                     (None, 1)            129         fc2[0][0]                        \n",
      "==================================================================================================\n",
      "Total params: 24,663,297\n",
      "Trainable params: 24,610,177\n",
      "Non-trainable params: 53,120\n",
      "__________________________________________________________________________________________________\n"
     ]
    }
   ],
   "source": [
    "model_resnet50 = Model(inputs=base_model.input, outputs=headModel_res50)\n",
    "model_resnet50.summary()"
   ]
  },
  {
   "cell_type": "code",
   "execution_count": 42,
   "id": "99401aad",
   "metadata": {
    "ExecuteTime": {
     "end_time": "2022-03-15T20:11:31.573395Z",
     "start_time": "2022-03-15T20:08:16.169615Z"
    }
   },
   "outputs": [
    {
     "name": "stdout",
     "output_type": "stream",
     "text": [
      "Epoch 1/10\n",
      "221/221 [==============================] - 34s 99ms/step - loss: 0.0984 - precision_2: 0.6787 - val_loss: 8.1154 - val_precision_2: 0.3322\n",
      "Epoch 2/10\n",
      "221/221 [==============================] - 18s 81ms/step - loss: 0.0631 - precision_2: 0.8527 - val_loss: 0.0608 - val_precision_2: 0.8852\n",
      "Epoch 3/10\n",
      "221/221 [==============================] - 18s 81ms/step - loss: 0.0425 - precision_2: 0.9184 - val_loss: 0.7531 - val_precision_2: 0.3436\n",
      "Epoch 4/10\n",
      "221/221 [==============================] - 18s 81ms/step - loss: 0.0347 - precision_2: 0.9598 - val_loss: 0.3940 - val_precision_2: 0.3995\n",
      "Epoch 5/10\n",
      "221/221 [==============================] - 18s 81ms/step - loss: 0.0285 - precision_2: 0.9614 - val_loss: 1.6962 - val_precision_2: 0.3469\n",
      "Epoch 6/10\n",
      "221/221 [==============================] - 18s 80ms/step - loss: 0.0263 - precision_2: 0.9702 - val_loss: 0.0361 - val_precision_2: 0.9798\n",
      "Epoch 7/10\n",
      "221/221 [==============================] - 18s 81ms/step - loss: 0.0242 - precision_2: 0.9711 - val_loss: 0.2717 - val_precision_2: 0.4237\n",
      "Epoch 8/10\n",
      "221/221 [==============================] - 18s 81ms/step - loss: 0.0234 - precision_2: 0.9760 - val_loss: 0.0825 - val_precision_2: 0.6583\n",
      "Epoch 9/10\n",
      "221/221 [==============================] - 18s 80ms/step - loss: 0.0237 - precision_2: 0.9719 - val_loss: 0.0878 - val_precision_2: 1.0000\n",
      "Epoch 10/10\n",
      "221/221 [==============================] - 18s 81ms/step - loss: 0.0226 - precision_2: 0.9758 - val_loss: 0.0576 - val_precision_2: 1.0000\n"
     ]
    }
   ],
   "source": [
    "# real resnet\n",
    "import tensorflow as tf\n",
    "model_resnet50.compile(optimizer=\"rmsprop\",\n",
    "    loss=focal_loss_custom(alpha=0.2, gamma=2.0),\n",
    "    #loss=\"binary_crossentropy\",\n",
    "    metrics=[tf.keras.metrics.Precision()])\n",
    "\n",
    "res50_history = model_resnet50.fit(train_image, np.array(train_label),\n",
    "          epochs=10, batch_size=64,\n",
    "          validation_data=(val_image, np.array(val_label)))"
   ]
  },
  {
   "cell_type": "code",
   "execution_count": 43,
   "id": "42722e4b",
   "metadata": {
    "ExecuteTime": {
     "end_time": "2022-03-15T20:11:39.504282Z",
     "start_time": "2022-03-15T20:11:31.578857Z"
    }
   },
   "outputs": [
    {
     "name": "stdout",
     "output_type": "stream",
     "text": [
      "109/109 [==============================] - 5s 35ms/step - loss: 0.0306 - precision_2: 0.9967\n",
      "0.9967105388641357\n",
      "0.030573993921279907\n",
      "              precision    recall  f1-score   support\n",
      "\n",
      "           0       0.83      1.00      0.91      2632\n",
      "           1       1.00      0.37      0.54       825\n",
      "\n",
      "    accuracy                           0.85      3457\n",
      "   macro avg       0.92      0.68      0.72      3457\n",
      "weighted avg       0.87      0.85      0.82      3457\n",
      "\n",
      "[[2631    1]\n",
      " [ 522  303]]\n"
     ]
    }
   ],
   "source": [
    "# real resnet\n",
    "test_loss, test_acc = model_resnet50.evaluate(test_image, np.array(test_label))\n",
    "print(test_acc)\n",
    "print(test_loss)\n",
    "\n",
    "from sklearn.metrics import confusion_matrix, classification_report\n",
    "\n",
    "pred = model_resnet50.predict(test_image)\n",
    "y_pred = (pred > 0.5)\n",
    "print(classification_report(np.array(test_label), y_pred))\n",
    "print(confusion_matrix(np.array(test_label), y_pred))"
   ]
  },
  {
   "cell_type": "code",
   "execution_count": 44,
   "id": "499fc818",
   "metadata": {
    "ExecuteTime": {
     "end_time": "2022-03-15T20:11:40.619103Z",
     "start_time": "2022-03-15T20:11:39.506969Z"
    }
   },
   "outputs": [
    {
     "name": "stderr",
     "output_type": "stream",
     "text": [
      "/home/msds2022/jlas/.local/lib/python3.9/site-packages/keras/utils/generic_utils.py:494: CustomMaskWarning: Custom mask layers require a config and must override get_config. When loading, the custom mask layer must be passed to the custom_objects argument.\n",
      "  warnings.warn('Custom mask layers require a config and must override '\n"
     ]
    }
   ],
   "source": [
    "from keras.models import load_model\n",
    "model_resnet50.save('model_resnet50.h5')"
   ]
  },
  {
   "cell_type": "markdown",
   "id": "6b8ec9b0",
   "metadata": {},
   "source": [
    "### d. ResNet modified"
   ]
  },
  {
   "cell_type": "code",
   "execution_count": 45,
   "id": "9157d14e",
   "metadata": {
    "ExecuteTime": {
     "end_time": "2022-03-15T20:11:40.654250Z",
     "start_time": "2022-03-15T20:11:40.624030Z"
    }
   },
   "outputs": [],
   "source": [
    "def identity_block(X, f, filters, stage, block):\n",
    "   \n",
    "    conv_name_base = 'res' + str(stage) + block + '_branch'\n",
    "    bn_name_base = 'bn' + str(stage) + block + '_branch'\n",
    "    F1, F2, F3 = filters\n",
    "\n",
    "    X_shortcut = X\n",
    "   \n",
    "    X = Conv2D(filters=F1, kernel_size=(1, 1), strides=(1, 1), padding='valid',\n",
    "               name=conv_name_base + '2a',\n",
    "               kernel_initializer=glorot_uniform(seed=0))(X)\n",
    "    X = BatchNormalization(axis=3, name=bn_name_base + '2a')(X)\n",
    "    X = Activation('relu')(X)\n",
    "\n",
    "    X = Conv2D(filters=F3, kernel_size=(1, 1), strides=(1, 1), padding='valid',\n",
    "               name=conv_name_base + '2c',\n",
    "               kernel_initializer=glorot_uniform(seed=0))(X)\n",
    "    X = BatchNormalization(axis=3, name=bn_name_base + '2c')(X)\n",
    "\n",
    "    X = Add()([X, X_shortcut])# SKIP Connection\n",
    "    X = Activation('relu')(X)\n",
    "\n",
    "    return X\n",
    "\n",
    "def convolutional_block(X, f, filters, stage, block, s=2):\n",
    "   \n",
    "    conv_name_base = 'res' + str(stage) + block + '_branch'\n",
    "    bn_name_base = 'bn' + str(stage) + block + '_branch'\n",
    "\n",
    "    F1, F2, F3 = filters\n",
    "\n",
    "    X_shortcut = X\n",
    "\n",
    "    X = Conv2D(filters=F1, kernel_size=(1, 1), strides=(s, s), padding='valid',\n",
    "               name=conv_name_base + '2a',\n",
    "               kernel_initializer=glorot_uniform(seed=0))(X)\n",
    "    X = BatchNormalization(axis=3, name=bn_name_base + '2a')(X)\n",
    "    X = Activation('relu')(X)\n",
    "\n",
    "    X = Conv2D(filters=F3, kernel_size=(1, 1), strides=(1, 1), padding='valid',\n",
    "               name=conv_name_base + '2c',\n",
    "               kernel_initializer=glorot_uniform(seed=0))(X)\n",
    "    X = BatchNormalization(axis=3, name=bn_name_base + '2c')(X)\n",
    "\n",
    "    X_shortcut = Conv2D(filters=F3, kernel_size=(1, 1), strides=(s, s),\n",
    "                        padding='valid', name=conv_name_base + '1',\n",
    "                        kernel_initializer=glorot_uniform(seed=0))(X_shortcut)\n",
    "    X_shortcut = BatchNormalization(axis=3, name=bn_name_base + '1')(X_shortcut)\n",
    "\n",
    "    X = Add()([X, X_shortcut])\n",
    "    X = Activation('relu')(X)\n",
    "\n",
    "    return X\n",
    "\n",
    "def ResNet50_mod(input_shape=(224, 224, 3)):\n",
    "\n",
    "    X_input = Input(input_shape)\n",
    "\n",
    "    X = ZeroPadding2D((3, 3))(X_input)\n",
    "\n",
    "    X = Conv2D(64, (7, 7), strides=(2, 2), name='conv1',\n",
    "               kernel_initializer=glorot_uniform(seed=0))(X)\n",
    "    X = BatchNormalization(axis=3, name='bn_conv1')(X)\n",
    "    X = Activation('relu')(X)\n",
    "    X = MaxPooling2D((3, 3), strides=(2, 2))(X)\n",
    "\n",
    "    X = convolutional_block(X, f=3, filters=[64, 64, 256], stage=2, block='a', s=1)\n",
    "    X = identity_block(X, 3, [64, 64, 256], stage=2, block='b')\n",
    "    X = identity_block(X, 3, [64, 64, 256], stage=2, block='c')\n",
    "\n",
    "    X = convolutional_block(X, f=3, filters=[128, 128, 512], stage=3, block='a', s=2)\n",
    "    X = identity_block(X, 3, [128, 128, 512], stage=3, block='b')\n",
    "    X = identity_block(X, 3, [128, 128, 512], stage=3, block='c')\n",
    "\n",
    "    X = AveragePooling2D(pool_size=(2, 2), padding='same')(X)\n",
    "    \n",
    "    model = Model(inputs=X_input, outputs=X, name='ResNet50')\n",
    "\n",
    "    return model"
   ]
  },
  {
   "cell_type": "code",
   "execution_count": 46,
   "id": "9ef93fb0",
   "metadata": {
    "ExecuteTime": {
     "end_time": "2022-03-15T20:11:40.930316Z",
     "start_time": "2022-03-15T20:11:40.657314Z"
    }
   },
   "outputs": [],
   "source": [
    "base_model = ResNet50_mod(input_shape=(64, 96, 1))"
   ]
  },
  {
   "cell_type": "code",
   "execution_count": 47,
   "id": "11b4fc27",
   "metadata": {
    "ExecuteTime": {
     "end_time": "2022-03-15T20:11:40.956920Z",
     "start_time": "2022-03-15T20:11:40.932042Z"
    }
   },
   "outputs": [],
   "source": [
    "headModel = base_model.output\n",
    "headModel = Flatten()(headModel)\n",
    "headModel = Dense(256, activation='relu', name='fc1',\n",
    "                  kernel_initializer=glorot_uniform(seed=0))(headModel)\n",
    "headModel = Dense(128, activation='relu', name='fc2',\n",
    "                  kernel_initializer=glorot_uniform(seed=0))(headModel)\n",
    "headModel = Dense(1,activation='sigmoid', name='fc3',\n",
    "                  kernel_initializer=glorot_uniform(seed=0))(headModel)"
   ]
  },
  {
   "cell_type": "code",
   "execution_count": 48,
   "id": "fc881eda",
   "metadata": {
    "ExecuteTime": {
     "end_time": "2022-03-15T20:11:40.993407Z",
     "start_time": "2022-03-15T20:11:40.958762Z"
    }
   },
   "outputs": [
    {
     "name": "stdout",
     "output_type": "stream",
     "text": [
      "Model: \"model_2\"\n",
      "__________________________________________________________________________________________________\n",
      "Layer (type)                    Output Shape         Param #     Connected to                     \n",
      "==================================================================================================\n",
      "input_3 (InputLayer)            [(None, 64, 96, 1)]  0                                            \n",
      "__________________________________________________________________________________________________\n",
      "zero_padding2d_1 (ZeroPadding2D (None, 70, 102, 1)   0           input_3[0][0]                    \n",
      "__________________________________________________________________________________________________\n",
      "conv1 (Conv2D)                  (None, 32, 48, 64)   3200        zero_padding2d_1[0][0]           \n",
      "__________________________________________________________________________________________________\n",
      "bn_conv1 (BatchNormalization)   (None, 32, 48, 64)   256         conv1[0][0]                      \n",
      "__________________________________________________________________________________________________\n",
      "activation_49 (Activation)      (None, 32, 48, 64)   0           bn_conv1[0][0]                   \n",
      "__________________________________________________________________________________________________\n",
      "max_pooling2d_3 (MaxPooling2D)  (None, 15, 23, 64)   0           activation_49[0][0]              \n",
      "__________________________________________________________________________________________________\n",
      "res2a_branch2a (Conv2D)         (None, 15, 23, 64)   4160        max_pooling2d_3[0][0]            \n",
      "__________________________________________________________________________________________________\n",
      "bn2a_branch2a (BatchNormalizati (None, 15, 23, 64)   256         res2a_branch2a[0][0]             \n",
      "__________________________________________________________________________________________________\n",
      "activation_50 (Activation)      (None, 15, 23, 64)   0           bn2a_branch2a[0][0]              \n",
      "__________________________________________________________________________________________________\n",
      "res2a_branch2c (Conv2D)         (None, 15, 23, 256)  16640       activation_50[0][0]              \n",
      "__________________________________________________________________________________________________\n",
      "res2a_branch1 (Conv2D)          (None, 15, 23, 256)  16640       max_pooling2d_3[0][0]            \n",
      "__________________________________________________________________________________________________\n",
      "bn2a_branch2c (BatchNormalizati (None, 15, 23, 256)  1024        res2a_branch2c[0][0]             \n",
      "__________________________________________________________________________________________________\n",
      "bn2a_branch1 (BatchNormalizatio (None, 15, 23, 256)  1024        res2a_branch1[0][0]              \n",
      "__________________________________________________________________________________________________\n",
      "add_16 (Add)                    (None, 15, 23, 256)  0           bn2a_branch2c[0][0]              \n",
      "                                                                 bn2a_branch1[0][0]               \n",
      "__________________________________________________________________________________________________\n",
      "activation_51 (Activation)      (None, 15, 23, 256)  0           add_16[0][0]                     \n",
      "__________________________________________________________________________________________________\n",
      "res2b_branch2a (Conv2D)         (None, 15, 23, 64)   16448       activation_51[0][0]              \n",
      "__________________________________________________________________________________________________\n",
      "bn2b_branch2a (BatchNormalizati (None, 15, 23, 64)   256         res2b_branch2a[0][0]             \n",
      "__________________________________________________________________________________________________\n",
      "activation_52 (Activation)      (None, 15, 23, 64)   0           bn2b_branch2a[0][0]              \n",
      "__________________________________________________________________________________________________\n",
      "res2b_branch2c (Conv2D)         (None, 15, 23, 256)  16640       activation_52[0][0]              \n",
      "__________________________________________________________________________________________________\n",
      "bn2b_branch2c (BatchNormalizati (None, 15, 23, 256)  1024        res2b_branch2c[0][0]             \n",
      "__________________________________________________________________________________________________\n",
      "add_17 (Add)                    (None, 15, 23, 256)  0           bn2b_branch2c[0][0]              \n",
      "                                                                 activation_51[0][0]              \n",
      "__________________________________________________________________________________________________\n",
      "activation_53 (Activation)      (None, 15, 23, 256)  0           add_17[0][0]                     \n",
      "__________________________________________________________________________________________________\n",
      "res2c_branch2a (Conv2D)         (None, 15, 23, 64)   16448       activation_53[0][0]              \n",
      "__________________________________________________________________________________________________\n",
      "bn2c_branch2a (BatchNormalizati (None, 15, 23, 64)   256         res2c_branch2a[0][0]             \n",
      "__________________________________________________________________________________________________\n",
      "activation_54 (Activation)      (None, 15, 23, 64)   0           bn2c_branch2a[0][0]              \n",
      "__________________________________________________________________________________________________\n",
      "res2c_branch2c (Conv2D)         (None, 15, 23, 256)  16640       activation_54[0][0]              \n",
      "__________________________________________________________________________________________________\n",
      "bn2c_branch2c (BatchNormalizati (None, 15, 23, 256)  1024        res2c_branch2c[0][0]             \n",
      "__________________________________________________________________________________________________\n",
      "add_18 (Add)                    (None, 15, 23, 256)  0           bn2c_branch2c[0][0]              \n",
      "                                                                 activation_53[0][0]              \n",
      "__________________________________________________________________________________________________\n",
      "activation_55 (Activation)      (None, 15, 23, 256)  0           add_18[0][0]                     \n",
      "__________________________________________________________________________________________________\n",
      "res3a_branch2a (Conv2D)         (None, 8, 12, 128)   32896       activation_55[0][0]              \n",
      "__________________________________________________________________________________________________\n",
      "bn3a_branch2a (BatchNormalizati (None, 8, 12, 128)   512         res3a_branch2a[0][0]             \n",
      "__________________________________________________________________________________________________\n",
      "activation_56 (Activation)      (None, 8, 12, 128)   0           bn3a_branch2a[0][0]              \n",
      "__________________________________________________________________________________________________\n",
      "res3a_branch2c (Conv2D)         (None, 8, 12, 512)   66048       activation_56[0][0]              \n",
      "__________________________________________________________________________________________________\n",
      "res3a_branch1 (Conv2D)          (None, 8, 12, 512)   131584      activation_55[0][0]              \n",
      "__________________________________________________________________________________________________\n",
      "bn3a_branch2c (BatchNormalizati (None, 8, 12, 512)   2048        res3a_branch2c[0][0]             \n",
      "__________________________________________________________________________________________________\n",
      "bn3a_branch1 (BatchNormalizatio (None, 8, 12, 512)   2048        res3a_branch1[0][0]              \n",
      "__________________________________________________________________________________________________\n",
      "add_19 (Add)                    (None, 8, 12, 512)   0           bn3a_branch2c[0][0]              \n",
      "                                                                 bn3a_branch1[0][0]               \n",
      "__________________________________________________________________________________________________\n",
      "activation_57 (Activation)      (None, 8, 12, 512)   0           add_19[0][0]                     \n",
      "__________________________________________________________________________________________________\n",
      "res3b_branch2a (Conv2D)         (None, 8, 12, 128)   65664       activation_57[0][0]              \n",
      "__________________________________________________________________________________________________\n",
      "bn3b_branch2a (BatchNormalizati (None, 8, 12, 128)   512         res3b_branch2a[0][0]             \n",
      "__________________________________________________________________________________________________\n",
      "activation_58 (Activation)      (None, 8, 12, 128)   0           bn3b_branch2a[0][0]              \n",
      "__________________________________________________________________________________________________\n",
      "res3b_branch2c (Conv2D)         (None, 8, 12, 512)   66048       activation_58[0][0]              \n",
      "__________________________________________________________________________________________________\n",
      "bn3b_branch2c (BatchNormalizati (None, 8, 12, 512)   2048        res3b_branch2c[0][0]             \n",
      "__________________________________________________________________________________________________\n",
      "add_20 (Add)                    (None, 8, 12, 512)   0           bn3b_branch2c[0][0]              \n",
      "                                                                 activation_57[0][0]              \n",
      "__________________________________________________________________________________________________\n",
      "activation_59 (Activation)      (None, 8, 12, 512)   0           add_20[0][0]                     \n",
      "__________________________________________________________________________________________________\n",
      "res3c_branch2a (Conv2D)         (None, 8, 12, 128)   65664       activation_59[0][0]              \n",
      "__________________________________________________________________________________________________\n",
      "bn3c_branch2a (BatchNormalizati (None, 8, 12, 128)   512         res3c_branch2a[0][0]             \n",
      "__________________________________________________________________________________________________\n",
      "activation_60 (Activation)      (None, 8, 12, 128)   0           bn3c_branch2a[0][0]              \n",
      "__________________________________________________________________________________________________\n",
      "res3c_branch2c (Conv2D)         (None, 8, 12, 512)   66048       activation_60[0][0]              \n",
      "__________________________________________________________________________________________________\n",
      "bn3c_branch2c (BatchNormalizati (None, 8, 12, 512)   2048        res3c_branch2c[0][0]             \n",
      "__________________________________________________________________________________________________\n",
      "add_21 (Add)                    (None, 8, 12, 512)   0           bn3c_branch2c[0][0]              \n",
      "                                                                 activation_59[0][0]              \n",
      "__________________________________________________________________________________________________\n",
      "activation_61 (Activation)      (None, 8, 12, 512)   0           add_21[0][0]                     \n",
      "__________________________________________________________________________________________________\n",
      "average_pooling2d_1 (AveragePoo (None, 4, 6, 512)    0           activation_61[0][0]              \n",
      "__________________________________________________________________________________________________\n",
      "flatten_2 (Flatten)             (None, 12288)        0           average_pooling2d_1[0][0]        \n",
      "__________________________________________________________________________________________________\n",
      "fc1 (Dense)                     (None, 256)          3145984     flatten_2[0][0]                  \n",
      "__________________________________________________________________________________________________\n",
      "fc2 (Dense)                     (None, 128)          32896       fc1[0][0]                        \n",
      "__________________________________________________________________________________________________\n",
      "fc3 (Dense)                     (None, 1)            129         fc2[0][0]                        \n",
      "==================================================================================================\n",
      "Total params: 3,794,625\n",
      "Trainable params: 3,787,201\n",
      "Non-trainable params: 7,424\n",
      "__________________________________________________________________________________________________\n"
     ]
    }
   ],
   "source": [
    "model_resnet_cust = Model(inputs=base_model.input, outputs=headModel)\n",
    "model_resnet_cust.summary()"
   ]
  },
  {
   "cell_type": "code",
   "execution_count": 49,
   "id": "015047a3",
   "metadata": {
    "ExecuteTime": {
     "end_time": "2022-03-15T20:13:05.302440Z",
     "start_time": "2022-03-15T20:11:40.995261Z"
    }
   },
   "outputs": [
    {
     "name": "stdout",
     "output_type": "stream",
     "text": [
      "Epoch 1/10\n",
      "221/221 [==============================] - 11s 38ms/step - loss: 1.0724 - precision_3: 0.6512 - val_loss: 0.9056 - val_precision_3: 0.3473\n",
      "Epoch 2/10\n",
      "221/221 [==============================] - 8s 36ms/step - loss: 0.3340 - precision_3: 0.8475 - val_loss: 9.9360 - val_precision_3: 0.3359\n",
      "Epoch 3/10\n",
      "221/221 [==============================] - 8s 36ms/step - loss: 0.2946 - precision_3: 0.8816 - val_loss: 0.4714 - val_precision_3: 0.7471\n",
      "Epoch 4/10\n",
      "221/221 [==============================] - 8s 36ms/step - loss: 0.2808 - precision_3: 0.9064 - val_loss: 6.7756 - val_precision_3: 0.3581\n",
      "Epoch 5/10\n",
      "221/221 [==============================] - 8s 36ms/step - loss: 0.2631 - precision_3: 0.9016 - val_loss: 12.4297 - val_precision_3: 0.3278\n",
      "Epoch 6/10\n",
      "221/221 [==============================] - 8s 36ms/step - loss: 0.2511 - precision_3: 0.9025 - val_loss: 0.4866 - val_precision_3: 0.6040\n",
      "Epoch 7/10\n",
      "221/221 [==============================] - 8s 36ms/step - loss: 0.2443 - precision_3: 0.9099 - val_loss: 0.5734 - val_precision_3: 0.7091\n",
      "Epoch 8/10\n",
      "221/221 [==============================] - 8s 37ms/step - loss: 0.2397 - precision_3: 0.9086 - val_loss: 0.4885 - val_precision_3: 0.9617\n",
      "Epoch 9/10\n",
      "221/221 [==============================] - 8s 35ms/step - loss: 0.2275 - precision_3: 0.9123 - val_loss: 16.8616 - val_precision_3: 0.3333\n",
      "Epoch 10/10\n",
      "221/221 [==============================] - 8s 37ms/step - loss: 0.2233 - precision_3: 0.9088 - val_loss: 1.9851 - val_precision_3: 0.3930\n"
     ]
    }
   ],
   "source": [
    "# reduced resnet\n",
    "import tensorflow as tf\n",
    "model_resnet_cust.compile(optimizer=\"rmsprop\",\n",
    "    #loss=focal_loss_custom(alpha=0.2, gamma=2.0),\n",
    "    loss=\"binary_crossentropy\",\n",
    "    metrics=[tf.keras.metrics.Precision()])\n",
    "\n",
    "res_cust_history = model_resnet_cust.fit(train_image, np.array(train_label),\n",
    "          epochs=10, batch_size=64,\n",
    "          validation_data=(val_image, np.array(val_label)))"
   ]
  },
  {
   "cell_type": "code",
   "execution_count": 50,
   "id": "7e3b47e0",
   "metadata": {
    "ExecuteTime": {
     "end_time": "2022-03-15T20:13:08.545015Z",
     "start_time": "2022-03-15T20:13:05.307152Z"
    }
   },
   "outputs": [
    {
     "name": "stdout",
     "output_type": "stream",
     "text": [
      "109/109 [==============================] - 1s 13ms/step - loss: 4.4856 - precision_3: 0.2796\n",
      "0.2795811593532562\n",
      "4.485575199127197\n",
      "              precision    recall  f1-score   support\n",
      "\n",
      "           0       0.96      0.22      0.35      2632\n",
      "           1       0.28      0.97      0.43       825\n",
      "\n",
      "    accuracy                           0.40      3457\n",
      "   macro avg       0.62      0.59      0.39      3457\n",
      "weighted avg       0.80      0.40      0.37      3457\n",
      "\n",
      "[[ 568 2064]\n",
      " [  24  801]]\n"
     ]
    }
   ],
   "source": [
    "test_loss, test_acc = model_resnet_cust.evaluate(test_image, np.array(test_label))\n",
    "print(test_acc)\n",
    "print(test_loss)\n",
    "\n",
    "pred = model_resnet_cust.predict(test_image)\n",
    "y_pred = (pred > 0.5)\n",
    "print(classification_report(np.array(test_label), y_pred))\n",
    "print(confusion_matrix(np.array(test_label), y_pred))"
   ]
  },
  {
   "cell_type": "code",
   "execution_count": 51,
   "id": "a78e953b",
   "metadata": {
    "ExecuteTime": {
     "end_time": "2022-03-15T20:13:08.782419Z",
     "start_time": "2022-03-15T20:13:08.547433Z"
    }
   },
   "outputs": [
    {
     "name": "stderr",
     "output_type": "stream",
     "text": [
      "/home/msds2022/jlas/.local/lib/python3.9/site-packages/keras/utils/generic_utils.py:494: CustomMaskWarning: Custom mask layers require a config and must override get_config. When loading, the custom mask layer must be passed to the custom_objects argument.\n",
      "  warnings.warn('Custom mask layers require a config and must override '\n"
     ]
    }
   ],
   "source": [
    "model_resnet_cust.save('model_resnet_reduced.h5')"
   ]
  },
  {
   "cell_type": "markdown",
   "id": "234b094e",
   "metadata": {},
   "source": [
    "## 4. Evaluation\n",
    "\n",
    "We will now load our best performing model and assess the items it misclassified. \n",
    "\n",
    "Our results showed that there are 522 false negatives, meaning these are sounds with killer whales in them but were not detected. On the contrary, only one ws misclassified as false positive meaning it was thought to be a killer whale sound but was not."
   ]
  },
  {
   "cell_type": "code",
   "execution_count": 143,
   "id": "41ee5ab9",
   "metadata": {
    "ExecuteTime": {
     "end_time": "2022-03-15T20:41:17.145186Z",
     "start_time": "2022-03-15T20:41:13.925046Z"
    }
   },
   "outputs": [
    {
     "name": "stdout",
     "output_type": "stream",
     "text": [
      "              precision    recall  f1-score   support\n",
      "\n",
      "           0       0.83      1.00      0.91      2632\n",
      "           1       1.00      0.37      0.54       825\n",
      "\n",
      "    accuracy                           0.85      3457\n",
      "   macro avg       0.92      0.68      0.72      3457\n",
      "weighted avg       0.87      0.85      0.82      3457\n",
      "\n",
      "[[2631    1]\n",
      " [ 522  303]]\n"
     ]
    }
   ],
   "source": [
    "# Load the best model\n",
    "final_model = keras.models.load_model('model_resnet50.h5', compile=False)\n",
    "\n",
    "pred = final_model.predict(test_image)\n",
    "y_pred = (pred > 0.5)\n",
    "print(classification_report(np.array(test_label), y_pred))\n",
    "print(confusion_matrix(np.array(test_label), y_pred))"
   ]
  },
  {
   "cell_type": "code",
   "execution_count": 197,
   "id": "861b3cd2",
   "metadata": {
    "ExecuteTime": {
     "end_time": "2022-03-15T21:03:16.265694Z",
     "start_time": "2022-03-15T21:03:16.215695Z"
    }
   },
   "outputs": [
    {
     "name": "stdout",
     "output_type": "stream",
     "text": [
      "988 (452638, 501638) OS_9_27_2017_09_34_00__0002.wav\n",
      "1032 (196000, 245000) OS_9_27_2017_10_49_00__0003.wav\n",
      "21 (1043439, 1092439) OS_7_05_2019_08_24_00_.wav\n",
      "3318 (1141147, 1190147) streaming-orcasound-net_2019_11_14_14_04_00.wav\n"
     ]
    }
   ],
   "source": [
    "# Get sample false negative and false positive\n",
    "tp = [i for i in range(len(y_pred)) if (y_pred[i]==1) and (test_label[i]==1)]\n",
    "tn = [i for i in range(len(y_pred)) if (y_pred[i]==0) and (test_label[i]==0)]\n",
    "fns = [i for i in range(len(y_pred)) if (y_pred[i]==0) and (test_label[i]==1)]\n",
    "fps = [i for i in range(len(y_pred)) if (y_pred[i]==1) and (test_label[i]==0)]\n",
    "\n",
    "# Get random results for each\n",
    "for i in tp[300:301]:\n",
    "    print(i, test_dataset.windows[i][:2], test_dataset.windows[i][-1].name)\n",
    "    \n",
    "for i in tn[405:406]:\n",
    "    print(i, test_dataset.windows[i][:2], test_dataset.windows[i][-1].name)\n",
    "    \n",
    "for i in fns[:1]:\n",
    "    print(i, test_dataset.windows[i][:2], test_dataset.windows[i][-1].name)\n",
    "\n",
    "for i in fps:\n",
    "    print(i, test_dataset.windows[i][:2], test_dataset.windows[i][-1].name)"
   ]
  },
  {
   "cell_type": "markdown",
   "id": "081c2b97",
   "metadata": {},
   "source": [
    "Looking at the spectrogram of the results, we can see possible reasons for the misclassification."
   ]
  },
  {
   "cell_type": "code",
   "execution_count": 198,
   "id": "ddf91ce2",
   "metadata": {
    "ExecuteTime": {
     "end_time": "2022-03-15T21:03:26.557548Z",
     "start_time": "2022-03-15T21:03:23.276167Z"
    }
   },
   "outputs": [
    {
     "data": {
      "image/png": "[encoded data removed]",
      "text/plain": [
       "<Figure size 1152x864 with 4 Axes>"
      ]
     },
     "metadata": {
      "needs_background": "light"
     },
     "output_type": "display_data"
    }
   ],
   "source": [
    "# Plot the results\n",
    "fig, axs = plt.subplots(2, 2, figsize=(16, 12))\n",
    "ax = axs.ravel()\n",
    "\n",
    "af1 = test_dataset.windows[21][3]\n",
    "af2 = test_dataset.windows[3318][3]\n",
    "af3 = test_dataset.windows[1032][3]\n",
    "af4 = test_dataset.windows[988][3]\n",
    "start_idx = int(0 * params.SAMPLE_RATE) \n",
    "end_idx = int(2.5 * params.SAMPLE_RATE)\n",
    "\n",
    "ax[0].imshow(af1.get_window(start_idx, end_idx).T)\n",
    "ax[0].set_title('False Negative', fontsize=14)\n",
    "ax[1].imshow(af2.get_window(start_idx, end_idx).T)\n",
    "ax[1].set_title('False Positive', fontsize=14)\n",
    "ax[2].imshow(af3.get_window(start_idx, end_idx).T)\n",
    "ax[2].set_title('True Negative', fontsize=14)\n",
    "ax[3].imshow(af4.get_window(start_idx, end_idx).T)\n",
    "ax[3].set_title('True Positive', fontsize=14)\n",
    "plt.suptitle(\"Samples of Incorrectly Classified Results\", fontsize=16);"
   ]
  },
  {
   "cell_type": "markdown",
   "id": "98cb969d",
   "metadata": {},
   "source": [
    "## 5. Conclusion and Recommendations\n",
    "From the spectrogram, we can see that it is very difficult to determine which is true positive and true negative with the human eye alone. However, we can still arrive at certain intuitions. False negative may be caused by a noisy environment that dilutes the sound of the killer whale. For the false positive, we can observe bright streaks that may have been confused with actual streaks. Nonetheless, it is difficult to tell since other samples are very similar to these photos as well.\n",
    "\n",
    "To improve the model, we will need to go further back than the modeling and look at the preprocessing steps that created these spectrograms. We would need to consider if the parameters used to clean the audio and to visualize is sufficient. Further knowledge of ocean sounds may be needed to arrive at the optimal data preparation steps.\n",
    "\n",
    "In addition to improving the preprocessing steps, the model itself can still be improved. We can clearly see the precision-recall tradeoff in the results of our best model wherein class 1 had a high precision but very low recall. Precision was the main metric used in this project to make it comparable to the humpback whale study that reported a precision score of 0.97. However, having a low recall is also not desired since this lessens the already limited dolphin sound data that we have.\n",
    "\n",
    "The project was limited to exploring only four architectures. Additional architectures can be explored to see if there are other models that can improve performance. In addition, transfer learning from the humpback whale studies can be attempted to see if using data trained on another cetaceans will help detect killer whale sounds. \n",
    "\n",
    "Lastly, this project made use of images to classify sounds. However, the audio data can also be converted into waves that can be processed via time series analysis. This approach may open doors to different insights based on the pattern of the audio and not just the frequency as captured by the spectrogram. All these potential information can unlock a whole new world underwater that we may never have known before. "
   ]
  },
  {
   "cell_type": "markdown",
   "id": "ee91ce30",
   "metadata": {},
   "source": [
    "### References\n",
    "- https://github.com/orcasound/orcadata/wiki\n",
    "- https://www.mbari.org/at-sea/cabled-observatory/mars-science-experiments/mars-hydrophone-data/\n",
    "- http://www.mwwphilippines.org/downloads/rm-marinemammals.pdf\n",
    "- https://towardsdatascience.com/a-loss-function-suitable-for-class-imbalanced-data-focal-loss-af1702d75d75\n",
    "- https://machinelearningknowledge.ai/keras-implementation-of-resnet-50-architecture-from-scratch/"
   ]
  },
  {
   "cell_type": "code",
   "execution_count": null,
   "id": "d0c47724",
   "metadata": {},
   "outputs": [],
   "source": []
  }
 ],
 "metadata": {
  "kernelspec": {
   "display_name": "Python 3 (ipykernel)",
   "language": "python",
   "name": "python3"
  },
  "language_info": {
   "codemirror_mode": {
    "name": "ipython",
    "version": 3
   },
   "file_extension": ".py",
   "mimetype": "text/x-python",
   "name": "python",
   "nbconvert_exporter": "python",
   "pygments_lexer": "ipython3",
   "version": "3.9.6"
  }
 },
 "nbformat": 4,
 "nbformat_minor": 5
}
